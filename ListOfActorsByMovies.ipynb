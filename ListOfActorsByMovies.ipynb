{
 "metadata": {
  "language_info": {
   "codemirror_mode": {
    "name": "ipython",
    "version": 3
   },
   "file_extension": ".py",
   "mimetype": "text/x-python",
   "name": "python",
   "nbconvert_exporter": "python",
   "pygments_lexer": "ipython3",
   "version": "3.7.6-final"
  },
  "orig_nbformat": 2,
  "kernelspec": {
   "name": "Python 3.7.6 64-bit ('utilisateur': virtualenv)",
   "display_name": "Python 3.7.6 64-bit ('utilisateur': virtualenv)",
   "metadata": {
    "interpreter": {
     "hash": "b57b0ba709768a7bbbc5b5f9f052a7cbe42e1ac711dd327dca942e98c95c92b1"
    }
   }
  }
 },
 "nbformat": 4,
 "nbformat_minor": 2,
 "cells": [
  {
   "cell_type": "code",
   "execution_count": 3,
   "metadata": {},
   "outputs": [],
   "source": [
    "#Importation de panda\n",
    "\n",
    "import pandas as pd"
   ]
  },
  {
   "source": [
    "#Chargement des fichier contenant les tables\n",
    "\n",
    "dfTitle = pd.read_csv(\"../data/title.basics.tsv\", sep='\\t', usecols=[\"tconst\", \"primaryTitle\", \"originalTitle\"], encoding='utf-8')\n",
    "dfName = pd.read_csv(\"../data/name.basics.tsv\", sep='\\t', usecols=[\"nconst\", \"primaryName\"], encoding='utf-8')\n",
    "dfPrincipals = pd.read_csv(\"../data/title.principals.tsv\", sep='\\t', usecols=[\"tconst\", \"nconst\", \"category\"], encoding='utf-8')"
   ],
   "cell_type": "code",
   "metadata": {},
   "execution_count": 4,
   "outputs": []
  },
  {
   "cell_type": "code",
   "execution_count": 24,
   "metadata": {},
   "outputs": [
    {
     "output_type": "execute_result",
     "data": {
      "text/plain": "   codeActor         nameActor     tconst\n0  nm0443482       Bette Davis  tt0000005\n1  nm0653042         Doris Day  tt0000005\n2  nm0179163  Marlene Dietrich  tt0000007\n3  nm0183947      Kirk Douglas  tt0000007\n4  nm0653028       Clark Gable  tt0000008",
      "text/html": "<div>\n<style scoped>\n    .dataframe tbody tr th:only-of-type {\n        vertical-align: middle;\n    }\n\n    .dataframe tbody tr th {\n        vertical-align: top;\n    }\n\n    .dataframe thead th {\n        text-align: right;\n    }\n</style>\n<table border=\"1\" class=\"dataframe\">\n  <thead>\n    <tr style=\"text-align: right;\">\n      <th></th>\n      <th>codeActor</th>\n      <th>nameActor</th>\n      <th>tconst</th>\n    </tr>\n  </thead>\n  <tbody>\n    <tr>\n      <th>0</th>\n      <td>nm0443482</td>\n      <td>Bette Davis</td>\n      <td>tt0000005</td>\n    </tr>\n    <tr>\n      <th>1</th>\n      <td>nm0653042</td>\n      <td>Doris Day</td>\n      <td>tt0000005</td>\n    </tr>\n    <tr>\n      <th>2</th>\n      <td>nm0179163</td>\n      <td>Marlene Dietrich</td>\n      <td>tt0000007</td>\n    </tr>\n    <tr>\n      <th>3</th>\n      <td>nm0183947</td>\n      <td>Kirk Douglas</td>\n      <td>tt0000007</td>\n    </tr>\n    <tr>\n      <th>4</th>\n      <td>nm0653028</td>\n      <td>Clark Gable</td>\n      <td>tt0000008</td>\n    </tr>\n  </tbody>\n</table>\n</div>"
     },
     "metadata": {},
     "execution_count": 24
    }
   ],
   "source": [
    "#Chargement de la liste des acteurs\n",
    "\n",
    "actorMovieList = []\n",
    "\n",
    "#Récupération du code de l'acteur, de son nom et des films où il a joué\n",
    "for i in range (len(dfName)):\n",
    "    if (dfPrincipals['category'].values[i] == 'actor' or dfPrincipals['category'].values[i] == 'actress'):\n",
    "        actorMovieList.append([dfPrincipals['nconst'].values[i], dfName['primaryName'].values[i], dfPrincipals['tconst'].values[i]])\n",
    "\n",
    "#Ecriture dans la table prévue pour afficher les résultats\n",
    "actorsMovieDF = pd.DataFrame(actorMovieList, columns=['codeActor', 'nameActor', 'tconst'])"
   ]
  },
  {
   "cell_type": "code",
   "execution_count": 36,
   "metadata": {},
   "outputs": [],
   "source": [
    "moviesList = []\n",
    "\n",
    "\n",
    "for i in range (len(dfTitle)):\n",
    "    moviesList.append([dfTitle['tconst'].values[i], dfTitle['primaryTitle'].values[i]])\n",
    "\n",
    "moviesListDF = pd.DataFrame(moviesList, columns=['tconst', 'primaryTitle'])"
   ]
  },
  {
   "cell_type": "code",
   "execution_count": 44,
   "metadata": {},
   "outputs": [
    {
     "output_type": "execute_result",
     "data": {
      "text/plain": "             tconst                                 primaryTitle   codeActor  \\\n0         tt0000005                             Blacksmith Scene   nm0443482   \n1         tt0000005                             Blacksmith Scene   nm0653042   \n2         tt0000007  Corbett and Courtney Before the Kinetograph   nm0179163   \n3         tt0000007  Corbett and Courtney Before the Kinetograph   nm0183947   \n4         tt0000008       Edison Kinetoscopic Record of a Sneeze   nm0653028   \n...             ...                                          ...         ...   \n4316689  tt10737680                             Creature of Love  nm10880802   \n4316690  tt10737680                             Creature of Love  nm10004200   \n4316691  tt10737680                             Creature of Love   nm9871899   \n4316692  tt10737680                             Creature of Love   nm8098634   \n4316693  tt10737680                             Creature of Love   nm9419769   \n\n                nameActor  \n0             Bette Davis  \n1               Doris Day  \n2        Marlene Dietrich  \n3            Kirk Douglas  \n4             Clark Gable  \n...                   ...  \n4316689   Émilie Laforest  \n4316690   Yves Desrosiers  \n4316691              Tess  \n4316692   Ryan Mac Lennan  \n4316693       Dora Moutot  \n\n[2554316 rows x 4 columns]",
      "text/html": "<div>\n<style scoped>\n    .dataframe tbody tr th:only-of-type {\n        vertical-align: middle;\n    }\n\n    .dataframe tbody tr th {\n        vertical-align: top;\n    }\n\n    .dataframe thead th {\n        text-align: right;\n    }\n</style>\n<table border=\"1\" class=\"dataframe\">\n  <thead>\n    <tr style=\"text-align: right;\">\n      <th></th>\n      <th>tconst</th>\n      <th>primaryTitle</th>\n      <th>codeActor</th>\n      <th>nameActor</th>\n    </tr>\n  </thead>\n  <tbody>\n    <tr>\n      <th>0</th>\n      <td>tt0000005</td>\n      <td>Blacksmith Scene</td>\n      <td>nm0443482</td>\n      <td>Bette Davis</td>\n    </tr>\n    <tr>\n      <th>1</th>\n      <td>tt0000005</td>\n      <td>Blacksmith Scene</td>\n      <td>nm0653042</td>\n      <td>Doris Day</td>\n    </tr>\n    <tr>\n      <th>2</th>\n      <td>tt0000007</td>\n      <td>Corbett and Courtney Before the Kinetograph</td>\n      <td>nm0179163</td>\n      <td>Marlene Dietrich</td>\n    </tr>\n    <tr>\n      <th>3</th>\n      <td>tt0000007</td>\n      <td>Corbett and Courtney Before the Kinetograph</td>\n      <td>nm0183947</td>\n      <td>Kirk Douglas</td>\n    </tr>\n    <tr>\n      <th>4</th>\n      <td>tt0000008</td>\n      <td>Edison Kinetoscopic Record of a Sneeze</td>\n      <td>nm0653028</td>\n      <td>Clark Gable</td>\n    </tr>\n    <tr>\n      <th>...</th>\n      <td>...</td>\n      <td>...</td>\n      <td>...</td>\n      <td>...</td>\n    </tr>\n    <tr>\n      <th>4316689</th>\n      <td>tt10737680</td>\n      <td>Creature of Love</td>\n      <td>nm10880802</td>\n      <td>Émilie Laforest</td>\n    </tr>\n    <tr>\n      <th>4316690</th>\n      <td>tt10737680</td>\n      <td>Creature of Love</td>\n      <td>nm10004200</td>\n      <td>Yves Desrosiers</td>\n    </tr>\n    <tr>\n      <th>4316691</th>\n      <td>tt10737680</td>\n      <td>Creature of Love</td>\n      <td>nm9871899</td>\n      <td>Tess</td>\n    </tr>\n    <tr>\n      <th>4316692</th>\n      <td>tt10737680</td>\n      <td>Creature of Love</td>\n      <td>nm8098634</td>\n      <td>Ryan Mac Lennan</td>\n    </tr>\n    <tr>\n      <th>4316693</th>\n      <td>tt10737680</td>\n      <td>Creature of Love</td>\n      <td>nm9419769</td>\n      <td>Dora Moutot</td>\n    </tr>\n  </tbody>\n</table>\n<p>2554316 rows × 4 columns</p>\n</div>"
     },
     "metadata": {},
     "execution_count": 44
    }
   ],
   "source": [
    "selectedMoviesList = []\n",
    "\n",
    "fusionMovies = pd.merge(moviesListDF,actorsMovieDF,on=['tconst'])\n",
    "resultat = fusionMovies.groupby(['primaryTitle'])\n"
   ]
  },
  {
   "cell_type": "code",
   "execution_count": 45,
   "metadata": {},
   "outputs": [],
   "source": [
    "movieActorList = []\n",
    "\n",
    "for i in range (len(fusionMovies)):\n",
    "    movieActorList.append([fusionMovies['primaryTitle'].values[i], [fusionMovies['nameActor'].values[i]]])"
   ]
  },
  {
   "cell_type": "code",
   "execution_count": 46,
   "metadata": {},
   "outputs": [],
   "source": [
    "#Ecriture dans le fichier prévu pour contenir la table des résultats\n",
    "finalActorsMoviesDF = pd.DataFrame(movieActorList, columns=['Movie', 'Actor'])\n",
    "finalActorsMoviesDF.to_csv('actorsMovies.csv')"
   ]
  },
  {
   "cell_type": "code",
   "execution_count": null,
   "metadata": {},
   "outputs": [],
   "source": []
  }
 ]
}