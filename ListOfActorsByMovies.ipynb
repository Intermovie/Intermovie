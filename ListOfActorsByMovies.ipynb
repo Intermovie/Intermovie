{
 "metadata": {
  "language_info": {
   "codemirror_mode": {
    "name": "ipython",
    "version": 3
   },
   "file_extension": ".py",
   "mimetype": "text/x-python",
   "name": "python",
   "nbconvert_exporter": "python",
   "pygments_lexer": "ipython3",
   "version": "3.7.6-final"
  },
  "orig_nbformat": 2,
  "kernelspec": {
   "name": "Python 3.7.6 64-bit ('base': conda)",
   "display_name": "Python 3.7.6 64-bit ('base': conda)",
   "metadata": {
    "interpreter": {
     "hash": "b57b0ba709768a7bbbc5b5f9f052a7cbe42e1ac711dd327dca942e98c95c92b1"
    }
   }
  }
 },
 "nbformat": 4,
 "nbformat_minor": 2,
 "cells": [
  {
   "cell_type": "code",
   "execution_count": 1,
   "metadata": {},
   "outputs": [],
   "source": [
    "#Importation de panda\n",
    "\n",
    "import pandas as pd"
   ]
  },
  {
   "source": [
    "#Chargement des fichier contenant les tables\n",
    "\n",
    "dfTitle = pd.read_csv(\"../data/title.basics.tsv\", sep='\\t', usecols=[\"tconst\", \"primaryTitle\", \"originalTitle\"], encoding='utf-8')\n",
    "dfName = pd.read_csv(\"../data/name.basics.tsv\", sep='\\t', usecols=[\"nconst\", \"primaryName\"], encoding='utf-8')\n",
    "dfPrincipals = pd.read_csv(\"../data/title.principals.tsv\", sep='\\t', usecols=[\"tconst\", \"nconst\", \"category\"], encoding='utf-8')"
   ],
   "cell_type": "code",
   "metadata": {},
   "execution_count": 2,
   "outputs": []
  },
  {
   "cell_type": "code",
   "execution_count": 8,
   "metadata": {
    "tags": []
   },
   "outputs": [],
   "source": [
    "#Chargement de la liste des acteurs\n",
    "\n",
    "actorMovieList = []\n",
    "\n",
    "#Récupération du code de l'acteur, de son nom et des films où il a joué\n",
    "for i in range (len(dfPrincipals)):\n",
    "    if (dfPrincipals['category'].values[i] == 'actor' or dfPrincipals['category'].values[i] == 'actress'):\n",
    "        actorMovieList.append([dfPrincipals['nconst'].values[i], dfPrincipals['tconst'].values[i]])\n",
    "\n",
    "#Ecriture dans la table prévue pour afficher les résultats\n",
    "actorsMovieDF = pd.DataFrame(actorMovieList, columns=['nconst', 'tconst'])"
   ]
  },
  {
   "cell_type": "code",
   "execution_count": 30,
   "metadata": {},
   "outputs": [],
   "source": [
    "#Récupération du nom des acteurs\n",
    "\n",
    "fusionActorsMovie = []\n",
    "\n",
    "fusionActorsName = pd.merge(dfName,actorsMovieDF,on=['nconst'])\n",
    "fusionActorsMovie = fusionActorsName.groupby(['primaryName'])\n",
    "\n",
    "fusionActorsMovieDF = pd.DataFrame(fusionActorsName, columns=['nconst', 'primaryName', 'tconst'])\n"
   ]
  },
  {
   "cell_type": "code",
   "execution_count": 37,
   "metadata": {},
   "outputs": [],
   "source": [
    "#Récupération de la liste des films\n",
    "\n",
    "moviesList = []\n",
    "\n",
    "for i in range (len(dfTitle)):\n",
    "    moviesList.append([dfTitle['tconst'].values[i], dfTitle['primaryTitle'].values[i]])\n",
    "\n",
    "moviesListDF = pd.DataFrame(moviesList, columns=['tconst', 'primaryTitle'])"
   ]
  },
  {
   "cell_type": "code",
   "execution_count": 60,
   "metadata": {},
   "outputs": [],
   "source": [
    "#Fusion de la liste des films et des acteurs\n",
    "\n",
    "selectedMoviesList = []\n",
    "\n",
    "fusionMovies = pd.merge(moviesListDF,fusionActorsMovieDF,on=['tconst'])\n",
    "#selectedMoviesList = fusionMovies.groupby(['primaryTitle'])\n",
    "\n",
    "selectedMoviesListDF = pd.DataFrame(fusionMovies, columns=['tconst', 'primaryTitle', 'nconst', 'primaryName'])\n"
   ]
  },
  {
   "cell_type": "code",
   "execution_count": 62,
   "metadata": {},
   "outputs": [],
   "source": [
    "#Ajout dans la liste prévue pour remplir le fichier csv\n",
    "movieActorList = []\n",
    "\n",
    "for i in range (len(selectedMoviesListDF)):\n",
    "    movieActorList.append([selectedMoviesListDF['primaryTitle'].values[i], [selectedMoviesListDF['primaryName'].values[i]]])"
   ]
  },
  {
   "cell_type": "code",
   "execution_count": 63,
   "metadata": {},
   "outputs": [],
   "source": [
    "#Ecriture dans le fichier prévu pour contenir la table des résultats\n",
    "finalActorsMoviesDF = pd.DataFrame(movieActorList, columns=['Movie', 'Actor'])\n",
    "finalActorsMoviesDF.to_csv('actorsMovies.csv')"
   ]
  },
  {
   "cell_type": "code",
   "execution_count": null,
   "metadata": {},
   "outputs": [],
   "source": []
  }
 ]
}