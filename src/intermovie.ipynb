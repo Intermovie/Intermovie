{
 "metadata": {
  "language_info": {
   "codemirror_mode": {
    "name": "ipython",
    "version": 3
   },
   "file_extension": ".py",
   "mimetype": "text/x-python",
   "name": "python",
   "nbconvert_exporter": "python",
   "pygments_lexer": "ipython3",
   "version": "3.7.9-final"
  },
  "orig_nbformat": 2,
  "kernelspec": {
   "name": "Python 3.7.9 64-bit ('intermovie': conda)",
   "display_name": "Python 3.7.9 64-bit ('intermovie': conda)",
   "metadata": {
    "interpreter": {
     "hash": "e158c6071094e0b3fdd2c320e554ca330ac70e308835a49627938a89d3ec7dcb"
    }
   }
  }
 },
 "nbformat": 4,
 "nbformat_minor": 2,
 "cells": [
  {
   "source": [
    "# Intermovie\n",
    "* La liste des acteurs par film\n",
    "* La liste des films Américains (en gardant leur nom en français) et leur note moyenne\n",
    "* Les notes moyennes des différents genres\n",
    "* La note moyenne de chaque acteur par rapport aux films dans lesquels il apparaît"
   ],
   "cell_type": "markdown",
   "metadata": {}
  },
  {
   "source": [
    "## Imports and useful functions"
   ],
   "cell_type": "markdown",
   "metadata": {}
  },
  {
   "source": [
    "%load_ext autoreload\n",
    "%autoreload 2\n",
    "\n",
    "import pandas as pd\n",
    "import random\n",
    "from sklearn.feature_extraction.text import CountVectorizer\n",
    "\n",
    "from modules.loader import IntermovieDataLoader \n",
    "#TODO filter column csv\n",
    "#TODO idempotence\n",
    "\n",
    "CURATED_LOCAL_PATH = '../data/CURATED/'\n",
    "RAW_LOCAL_PATH = '../data/RAW/'\n",
    "\n",
    "data_loader = IntermovieDataLoader()"
   ],
   "cell_type": "code",
   "metadata": {
    "tags": []
   },
   "execution_count": 4,
   "outputs": []
  },
  {
   "cell_type": "code",
   "execution_count": null,
   "metadata": {},
   "outputs": [],
   "source": [
    "data_loader.split_data('title.basics.tsv', 'titleType', 'movie')"
   ]
  },
  {
   "cell_type": "code",
   "execution_count": 8,
   "metadata": {
    "tags": []
   },
   "outputs": [],
   "source": [
    "df_movies = pd.read_csv(f'{CURATED_LOCAL_PATH}movie.csv', usecols=['tconst', 'originalTitle', 'genres'], index_col='tconst', encoding='utf-8')\n",
    "df_names = pd.read_csv(f'{RAW_LOCAL_PATH}name.basics.tsv', sep='\\t', usecols=[\"nconst\", \"primaryName\"], encoding='utf-8')\n",
    "# df_principals = pd.read_csv(f'{RAW_LOCAL_PATH}title.principals.tsv', sep='\\t', usecols=[\"tconst\", \"nconst\", \"category\"], encoding='utf-8')"
   ]
  },
  {
   "cell_type": "code",
   "execution_count": 6,
   "metadata": {},
   "outputs": [
    {
     "output_type": "error",
     "ename": "KeyboardInterrupt",
     "evalue": "",
     "traceback": [
      "\u001b[1;31m---------------------------------------------------------------------------\u001b[0m",
      "\u001b[1;31mKeyboardInterrupt\u001b[0m                         Traceback (most recent call last)",
      "\u001b[1;32m<ipython-input-6-8f2c4c398d62>\u001b[0m in \u001b[0;36m<module>\u001b[1;34m\u001b[0m\n\u001b[1;32m----> 1\u001b[1;33m \u001b[0mdata_loader\u001b[0m\u001b[1;33m.\u001b[0m\u001b[0msplit_data\u001b[0m\u001b[1;33m(\u001b[0m\u001b[1;34m'title.principals.tsv'\u001b[0m\u001b[1;33m,\u001b[0m \u001b[1;34m'category'\u001b[0m\u001b[1;33m,\u001b[0m \u001b[1;33m[\u001b[0m\u001b[1;34m'actor'\u001b[0m\u001b[1;33m,\u001b[0m \u001b[1;34m'actress'\u001b[0m\u001b[1;33m]\u001b[0m\u001b[1;33m)\u001b[0m\u001b[1;33m\u001b[0m\u001b[1;33m\u001b[0m\u001b[0m\n\u001b[0m\u001b[0;32m      2\u001b[0m \u001b[0mdf_actors\u001b[0m \u001b[1;33m=\u001b[0m \u001b[0mpd\u001b[0m\u001b[1;33m.\u001b[0m\u001b[0mread_csv\u001b[0m\u001b[1;33m(\u001b[0m\u001b[1;34mf'{CURATED_LOCAL_PATH}actor.csv'\u001b[0m\u001b[1;33m,\u001b[0m \u001b[0musecols\u001b[0m\u001b[1;33m=\u001b[0m\u001b[1;33m[\u001b[0m\u001b[1;34m'tconst'\u001b[0m\u001b[1;33m,\u001b[0m \u001b[1;34m'nconst'\u001b[0m\u001b[1;33m]\u001b[0m\u001b[1;33m,\u001b[0m \u001b[0mencoding\u001b[0m\u001b[1;33m=\u001b[0m\u001b[1;34m'utf-8'\u001b[0m\u001b[1;33m)\u001b[0m\u001b[1;33m.\u001b[0m\u001b[0mconcat\u001b[0m\u001b[1;33m(\u001b[0m\u001b[0mpd\u001b[0m\u001b[1;33m.\u001b[0m\u001b[0mread_csv\u001b[0m\u001b[1;33m(\u001b[0m\u001b[1;34mf'{CURATED_LOCAL_PATH}actress.csv'\u001b[0m\u001b[1;33m,\u001b[0m \u001b[0musecols\u001b[0m\u001b[1;33m=\u001b[0m\u001b[1;33m[\u001b[0m\u001b[1;34m'tconst'\u001b[0m\u001b[1;33m,\u001b[0m \u001b[1;34m'nconst'\u001b[0m\u001b[1;33m]\u001b[0m\u001b[1;33m,\u001b[0m \u001b[0mencoding\u001b[0m\u001b[1;33m=\u001b[0m\u001b[1;34m'utf-8'\u001b[0m\u001b[1;33m)\u001b[0m\u001b[1;33m)\u001b[0m\u001b[1;33m\u001b[0m\u001b[1;33m\u001b[0m\u001b[0m\n",
      "\u001b[1;32mc:\\Users\\utilisateur\\Desktop\\Projets\\Intermovie\\src\\modules\\loader.py\u001b[0m in \u001b[0;36msplit_data\u001b[1;34m(self, filename, column_name, values)\u001b[0m\n\u001b[0;32m     25\u001b[0m             \u001b[0mopen_files_references\u001b[0m \u001b[1;33m=\u001b[0m \u001b[1;33m{\u001b[0m\u001b[1;33m}\u001b[0m\u001b[1;33m\u001b[0m\u001b[1;33m\u001b[0m\u001b[0m\n\u001b[0;32m     26\u001b[0m \u001b[1;33m\u001b[0m\u001b[0m\n\u001b[1;32m---> 27\u001b[1;33m             \u001b[1;32mfor\u001b[0m \u001b[0mrow\u001b[0m \u001b[1;32min\u001b[0m \u001b[0mfile_stream_reader\u001b[0m\u001b[1;33m:\u001b[0m\u001b[1;33m\u001b[0m\u001b[1;33m\u001b[0m\u001b[0m\n\u001b[0m\u001b[0;32m     28\u001b[0m                 \u001b[0mcolumn_value\u001b[0m \u001b[1;33m=\u001b[0m \u001b[0mrow\u001b[0m\u001b[1;33m[\u001b[0m\u001b[0mcolumn_name\u001b[0m\u001b[1;33m]\u001b[0m\u001b[1;33m\u001b[0m\u001b[1;33m\u001b[0m\u001b[0m\n\u001b[0;32m     29\u001b[0m \u001b[1;33m\u001b[0m\u001b[0m\n",
      "\u001b[1;32m~\\anaconda3\\envs\\intermovie\\lib\\csv.py\u001b[0m in \u001b[0;36m__next__\u001b[1;34m(self)\u001b[0m\n\u001b[0;32m    110\u001b[0m             \u001b[1;31m# Used only for its side effect.\u001b[0m\u001b[1;33m\u001b[0m\u001b[1;33m\u001b[0m\u001b[1;33m\u001b[0m\u001b[0m\n\u001b[0;32m    111\u001b[0m             \u001b[0mself\u001b[0m\u001b[1;33m.\u001b[0m\u001b[0mfieldnames\u001b[0m\u001b[1;33m\u001b[0m\u001b[1;33m\u001b[0m\u001b[0m\n\u001b[1;32m--> 112\u001b[1;33m         \u001b[0mrow\u001b[0m \u001b[1;33m=\u001b[0m \u001b[0mnext\u001b[0m\u001b[1;33m(\u001b[0m\u001b[0mself\u001b[0m\u001b[1;33m.\u001b[0m\u001b[0mreader\u001b[0m\u001b[1;33m)\u001b[0m\u001b[1;33m\u001b[0m\u001b[1;33m\u001b[0m\u001b[0m\n\u001b[0m\u001b[0;32m    113\u001b[0m         \u001b[0mself\u001b[0m\u001b[1;33m.\u001b[0m\u001b[0mline_num\u001b[0m \u001b[1;33m=\u001b[0m \u001b[0mself\u001b[0m\u001b[1;33m.\u001b[0m\u001b[0mreader\u001b[0m\u001b[1;33m.\u001b[0m\u001b[0mline_num\u001b[0m\u001b[1;33m\u001b[0m\u001b[1;33m\u001b[0m\u001b[0m\n\u001b[0;32m    114\u001b[0m \u001b[1;33m\u001b[0m\u001b[0m\n",
      "\u001b[1;32m~\\anaconda3\\envs\\intermovie\\lib\\codecs.py\u001b[0m in \u001b[0;36mdecode\u001b[1;34m(self, input, final)\u001b[0m\n\u001b[0;32m    317\u001b[0m         \u001b[1;32mraise\u001b[0m \u001b[0mNotImplementedError\u001b[0m\u001b[1;33m\u001b[0m\u001b[1;33m\u001b[0m\u001b[0m\n\u001b[0;32m    318\u001b[0m \u001b[1;33m\u001b[0m\u001b[0m\n\u001b[1;32m--> 319\u001b[1;33m     \u001b[1;32mdef\u001b[0m \u001b[0mdecode\u001b[0m\u001b[1;33m(\u001b[0m\u001b[0mself\u001b[0m\u001b[1;33m,\u001b[0m \u001b[0minput\u001b[0m\u001b[1;33m,\u001b[0m \u001b[0mfinal\u001b[0m\u001b[1;33m=\u001b[0m\u001b[1;32mFalse\u001b[0m\u001b[1;33m)\u001b[0m\u001b[1;33m:\u001b[0m\u001b[1;33m\u001b[0m\u001b[1;33m\u001b[0m\u001b[0m\n\u001b[0m\u001b[0;32m    320\u001b[0m         \u001b[1;31m# decode input (taking the buffer into account)\u001b[0m\u001b[1;33m\u001b[0m\u001b[1;33m\u001b[0m\u001b[1;33m\u001b[0m\u001b[0m\n\u001b[0;32m    321\u001b[0m         \u001b[0mdata\u001b[0m \u001b[1;33m=\u001b[0m \u001b[0mself\u001b[0m\u001b[1;33m.\u001b[0m\u001b[0mbuffer\u001b[0m \u001b[1;33m+\u001b[0m \u001b[0minput\u001b[0m\u001b[1;33m\u001b[0m\u001b[1;33m\u001b[0m\u001b[0m\n",
      "\u001b[1;31mKeyboardInterrupt\u001b[0m: "
     ]
    }
   ],
   "source": [
    "data_loader.split_data('title.principals.tsv', 'category', ['actor', 'actress'])"
   ]
  },
  {
   "cell_type": "code",
   "execution_count": 5,
   "metadata": {},
   "outputs": [],
   "source": [
    "df_actors = pd.concat([pd.read_csv(f'{CURATED_LOCAL_PATH}actor.csv', usecols=['tconst', 'nconst'], encoding='utf-8'), pd.read_csv(f'{CURATED_LOCAL_PATH}actress.csv', usecols=['tconst', 'nconst'], encoding='utf-8')])"
   ]
  },
  {
   "source": [
    "\n",
    "## La liste des *acteurs* par *film*"
   ],
   "cell_type": "markdown",
   "metadata": {}
  },
  {
   "cell_type": "code",
   "execution_count": 9,
   "metadata": {},
   "outputs": [],
   "source": [
    "df_actors = df_actors.merge(df_names)"
   ]
  },
  {
   "cell_type": "code",
   "execution_count": 10,
   "metadata": {},
   "outputs": [],
   "source": [
    "df_actors_groupby_movies = df_actors.groupby('tconst')['primaryName'].apply(', '.join)"
   ]
  },
  {
   "cell_type": "code",
   "execution_count": 12,
   "metadata": {},
   "outputs": [],
   "source": [
    "df_actors_groupby_movies = df_actors_groupby_movies.to_frame().merge(df_movies, on='tconst')"
   ]
  },
  {
   "cell_type": "code",
   "execution_count": 13,
   "metadata": {},
   "outputs": [],
   "source": [
    "df_actors_groupby_movies.to_csv(CURATED_LOCAL_PATH +'cast.csv')"
   ]
  },
  {
   "source": [
    "## La liste des films Américains (en gardant leur nom en français) et leur note moyenne"
   ],
   "cell_type": "markdown",
   "metadata": {}
  },
  {
   "source": [
    "### Films (en gardant le nom fr)"
   ],
   "cell_type": "markdown",
   "metadata": {}
  },
  {
   "source": [
    "### Titres Américains"
   ],
   "cell_type": "markdown",
   "metadata": {}
  },
  {
   "cell_type": "code",
   "execution_count": 14,
   "metadata": {},
   "outputs": [
    {
     "output_type": "execute_result",
     "data": {
      "text/plain": "          region\ntitleId         \ntt0000001     US\ntt0000002     US\ntt0000005     US\ntt0000006     US\ntt0000007     US\n...          ...\ntt0097084     US\ntt0097085     US\ntt0097086     US\ntt0097087     US\ntt0097088     US\n\n[55831 rows x 1 columns]",
      "text/html": "<div>\n<style scoped>\n    .dataframe tbody tr th:only-of-type {\n        vertical-align: middle;\n    }\n\n    .dataframe tbody tr th {\n        vertical-align: top;\n    }\n\n    .dataframe thead th {\n        text-align: right;\n    }\n</style>\n<table border=\"1\" class=\"dataframe\">\n  <thead>\n    <tr style=\"text-align: right;\">\n      <th></th>\n      <th>region</th>\n    </tr>\n    <tr>\n      <th>titleId</th>\n      <th></th>\n    </tr>\n  </thead>\n  <tbody>\n    <tr>\n      <th>tt0000001</th>\n      <td>US</td>\n    </tr>\n    <tr>\n      <th>tt0000002</th>\n      <td>US</td>\n    </tr>\n    <tr>\n      <th>tt0000005</th>\n      <td>US</td>\n    </tr>\n    <tr>\n      <th>tt0000006</th>\n      <td>US</td>\n    </tr>\n    <tr>\n      <th>tt0000007</th>\n      <td>US</td>\n    </tr>\n    <tr>\n      <th>...</th>\n      <td>...</td>\n    </tr>\n    <tr>\n      <th>tt0097084</th>\n      <td>US</td>\n    </tr>\n    <tr>\n      <th>tt0097085</th>\n      <td>US</td>\n    </tr>\n    <tr>\n      <th>tt0097086</th>\n      <td>US</td>\n    </tr>\n    <tr>\n      <th>tt0097087</th>\n      <td>US</td>\n    </tr>\n    <tr>\n      <th>tt0097088</th>\n      <td>US</td>\n    </tr>\n  </tbody>\n</table>\n<p>55831 rows × 1 columns</p>\n</div>"
     },
     "metadata": {},
     "execution_count": 14
    }
   ],
   "source": [
    "df_us = pd.read_csv('../data/CURATED/US.csv', usecols=['titleId', 'region'], index_col='titleId', encoding='utf-8')\n",
    "df_us = df_us[~df_us.index.duplicated(keep='first')]\n",
    "df_us"
   ]
  },
  {
   "cell_type": "code",
   "execution_count": 15,
   "metadata": {
    "tags": []
   },
   "outputs": [],
   "source": [
    "df_title_ratings = pd.read_csv(f'{RAW_LOCAL_PATH}title.ratings.tsv', sep='\\t', usecols=['tconst', 'averageRating'], index_col='tconst', encoding='utf-8')"
   ]
  },
  {
   "cell_type": "code",
   "execution_count": 16,
   "metadata": {
    "tags": []
   },
   "outputs": [],
   "source": [
    "df_movies_us = df_movies.merge(df_us, left_index=True, left_on='tconst', right_index=True, right_on='titleId')"
   ]
  },
  {
   "cell_type": "code",
   "execution_count": 19,
   "metadata": {},
   "outputs": [
    {
     "output_type": "execute_result",
     "data": {
      "text/plain": "              tconst                   originalTitle                  genres  \\\ntt0000009  tt0000009                      Miss Jerry                 Romance   \ntt0000147  tt0000147   The Corbett-Fitzsimmons Fight  Documentary,News,Sport   \ntt0000630  tt0000630                          Amleto                   Drama   \ntt0000679  tt0000679  The Fairylogue and Radio-Plays       Adventure,Fantasy   \ntt0000886  tt0000886                          Hamlet                   Drama   \n...              ...                             ...                     ...   \ntt0097074  tt0097074                  Cohen and Tate          Crime,Thriller   \ntt0097076  tt0097076                       Cold Feet            Comedy,Crime   \ntt0097078  tt0097078                       Cold Heat   Action,Drama,Thriller   \ntt0097079  tt0097079                    Cold Justice                   Drama   \ntt0097081  tt0097081                Collision Course     Action,Comedy,Crime   \n\n          region  averageRating  \ntt0000009     US            5.4  \ntt0000147     US            5.2  \ntt0000630     US            2.7  \ntt0000679     US            4.8  \ntt0000886     US            5.2  \n...          ...            ...  \ntt0097074     US            6.4  \ntt0097076     US            4.7  \ntt0097078     US            2.8  \ntt0097079     US            6.4  \ntt0097081     US            4.6  \n\n[29855 rows x 5 columns]",
      "text/html": "<div>\n<style scoped>\n    .dataframe tbody tr th:only-of-type {\n        vertical-align: middle;\n    }\n\n    .dataframe tbody tr th {\n        vertical-align: top;\n    }\n\n    .dataframe thead th {\n        text-align: right;\n    }\n</style>\n<table border=\"1\" class=\"dataframe\">\n  <thead>\n    <tr style=\"text-align: right;\">\n      <th></th>\n      <th>tconst</th>\n      <th>originalTitle</th>\n      <th>genres</th>\n      <th>region</th>\n      <th>averageRating</th>\n    </tr>\n  </thead>\n  <tbody>\n    <tr>\n      <th>tt0000009</th>\n      <td>tt0000009</td>\n      <td>Miss Jerry</td>\n      <td>Romance</td>\n      <td>US</td>\n      <td>5.4</td>\n    </tr>\n    <tr>\n      <th>tt0000147</th>\n      <td>tt0000147</td>\n      <td>The Corbett-Fitzsimmons Fight</td>\n      <td>Documentary,News,Sport</td>\n      <td>US</td>\n      <td>5.2</td>\n    </tr>\n    <tr>\n      <th>tt0000630</th>\n      <td>tt0000630</td>\n      <td>Amleto</td>\n      <td>Drama</td>\n      <td>US</td>\n      <td>2.7</td>\n    </tr>\n    <tr>\n      <th>tt0000679</th>\n      <td>tt0000679</td>\n      <td>The Fairylogue and Radio-Plays</td>\n      <td>Adventure,Fantasy</td>\n      <td>US</td>\n      <td>4.8</td>\n    </tr>\n    <tr>\n      <th>tt0000886</th>\n      <td>tt0000886</td>\n      <td>Hamlet</td>\n      <td>Drama</td>\n      <td>US</td>\n      <td>5.2</td>\n    </tr>\n    <tr>\n      <th>...</th>\n      <td>...</td>\n      <td>...</td>\n      <td>...</td>\n      <td>...</td>\n      <td>...</td>\n    </tr>\n    <tr>\n      <th>tt0097074</th>\n      <td>tt0097074</td>\n      <td>Cohen and Tate</td>\n      <td>Crime,Thriller</td>\n      <td>US</td>\n      <td>6.4</td>\n    </tr>\n    <tr>\n      <th>tt0097076</th>\n      <td>tt0097076</td>\n      <td>Cold Feet</td>\n      <td>Comedy,Crime</td>\n      <td>US</td>\n      <td>4.7</td>\n    </tr>\n    <tr>\n      <th>tt0097078</th>\n      <td>tt0097078</td>\n      <td>Cold Heat</td>\n      <td>Action,Drama,Thriller</td>\n      <td>US</td>\n      <td>2.8</td>\n    </tr>\n    <tr>\n      <th>tt0097079</th>\n      <td>tt0097079</td>\n      <td>Cold Justice</td>\n      <td>Drama</td>\n      <td>US</td>\n      <td>6.4</td>\n    </tr>\n    <tr>\n      <th>tt0097081</th>\n      <td>tt0097081</td>\n      <td>Collision Course</td>\n      <td>Action,Comedy,Crime</td>\n      <td>US</td>\n      <td>4.6</td>\n    </tr>\n  </tbody>\n</table>\n<p>29855 rows × 5 columns</p>\n</div>"
     },
     "metadata": {},
     "execution_count": 19
    }
   ],
   "source": [
    "df_movies_us_ratings = df_movies_us.merge(df_title_ratings, left_on='tconst', right_index=True, right_on='tconst')\n",
    "df_movies_us_ratings.to_csv(f'{CURATED_LOCAL_PATH}movies_us_ratings.csv', index=False)\n",
    "df_movies_us_ratings"
   ]
  },
  {
   "source": [
    "## Les notes moyennes des différents genres\n"
   ],
   "cell_type": "markdown",
   "metadata": {}
  },
  {
   "cell_type": "code",
   "execution_count": 20,
   "metadata": {},
   "outputs": [
    {
     "output_type": "execute_result",
     "data": {
      "text/plain": "                             genres\ntconst                             \ntt0000001         Documentary,Short\ntt0000002           Animation,Short\ntt0000003  Animation,Comedy,Romance\ntt0000004           Animation,Short\ntt0000005              Comedy,Short\n...                             ...\ntt9916848       Action,Drama,Family\ntt9916850       Action,Drama,Family\ntt9916852       Action,Drama,Family\ntt9916856                     Short\ntt9916880   Animation,Comedy,Family\n\n[6321302 rows x 1 columns]",
      "text/html": "<div>\n<style scoped>\n    .dataframe tbody tr th:only-of-type {\n        vertical-align: middle;\n    }\n\n    .dataframe tbody tr th {\n        vertical-align: top;\n    }\n\n    .dataframe thead th {\n        text-align: right;\n    }\n</style>\n<table border=\"1\" class=\"dataframe\">\n  <thead>\n    <tr style=\"text-align: right;\">\n      <th></th>\n      <th>genres</th>\n    </tr>\n    <tr>\n      <th>tconst</th>\n      <th></th>\n    </tr>\n  </thead>\n  <tbody>\n    <tr>\n      <th>tt0000001</th>\n      <td>Documentary,Short</td>\n    </tr>\n    <tr>\n      <th>tt0000002</th>\n      <td>Animation,Short</td>\n    </tr>\n    <tr>\n      <th>tt0000003</th>\n      <td>Animation,Comedy,Romance</td>\n    </tr>\n    <tr>\n      <th>tt0000004</th>\n      <td>Animation,Short</td>\n    </tr>\n    <tr>\n      <th>tt0000005</th>\n      <td>Comedy,Short</td>\n    </tr>\n    <tr>\n      <th>...</th>\n      <td>...</td>\n    </tr>\n    <tr>\n      <th>tt9916848</th>\n      <td>Action,Drama,Family</td>\n    </tr>\n    <tr>\n      <th>tt9916850</th>\n      <td>Action,Drama,Family</td>\n    </tr>\n    <tr>\n      <th>tt9916852</th>\n      <td>Action,Drama,Family</td>\n    </tr>\n    <tr>\n      <th>tt9916856</th>\n      <td>Short</td>\n    </tr>\n    <tr>\n      <th>tt9916880</th>\n      <td>Animation,Comedy,Family</td>\n    </tr>\n  </tbody>\n</table>\n<p>6321302 rows × 1 columns</p>\n</div>"
     },
     "metadata": {},
     "execution_count": 20
    }
   ],
   "source": [
    "df_title_basics = pd.read_csv(f'{RAW_LOCAL_PATH}title.basics.tsv', sep='\\t', usecols=['tconst', 'genres'], index_col='tconst', encoding='utf-8')\n",
    "df_title_basics"
   ]
  },
  {
   "cell_type": "code",
   "execution_count": 21,
   "metadata": {},
   "outputs": [
    {
     "output_type": "execute_result",
     "data": {
      "text/plain": "                                 genres\ntconst                                 \ntt0000001          [Documentary, Short]\ntt0000002            [Animation, Short]\ntt0000003  [Animation, Comedy, Romance]\ntt0000004            [Animation, Short]\ntt0000005               [Comedy, Short]\n...                                 ...\ntt9916848       [Action, Drama, Family]\ntt9916850       [Action, Drama, Family]\ntt9916852       [Action, Drama, Family]\ntt9916856                       [Short]\ntt9916880   [Animation, Comedy, Family]\n\n[6321302 rows x 1 columns]",
      "text/html": "<div>\n<style scoped>\n    .dataframe tbody tr th:only-of-type {\n        vertical-align: middle;\n    }\n\n    .dataframe tbody tr th {\n        vertical-align: top;\n    }\n\n    .dataframe thead th {\n        text-align: right;\n    }\n</style>\n<table border=\"1\" class=\"dataframe\">\n  <thead>\n    <tr style=\"text-align: right;\">\n      <th></th>\n      <th>genres</th>\n    </tr>\n    <tr>\n      <th>tconst</th>\n      <th></th>\n    </tr>\n  </thead>\n  <tbody>\n    <tr>\n      <th>tt0000001</th>\n      <td>[Documentary, Short]</td>\n    </tr>\n    <tr>\n      <th>tt0000002</th>\n      <td>[Animation, Short]</td>\n    </tr>\n    <tr>\n      <th>tt0000003</th>\n      <td>[Animation, Comedy, Romance]</td>\n    </tr>\n    <tr>\n      <th>tt0000004</th>\n      <td>[Animation, Short]</td>\n    </tr>\n    <tr>\n      <th>tt0000005</th>\n      <td>[Comedy, Short]</td>\n    </tr>\n    <tr>\n      <th>...</th>\n      <td>...</td>\n    </tr>\n    <tr>\n      <th>tt9916848</th>\n      <td>[Action, Drama, Family]</td>\n    </tr>\n    <tr>\n      <th>tt9916850</th>\n      <td>[Action, Drama, Family]</td>\n    </tr>\n    <tr>\n      <th>tt9916852</th>\n      <td>[Action, Drama, Family]</td>\n    </tr>\n    <tr>\n      <th>tt9916856</th>\n      <td>[Short]</td>\n    </tr>\n    <tr>\n      <th>tt9916880</th>\n      <td>[Animation, Comedy, Family]</td>\n    </tr>\n  </tbody>\n</table>\n<p>6321302 rows × 1 columns</p>\n</div>"
     },
     "metadata": {},
     "execution_count": 21
    }
   ],
   "source": [
    "df_title_basics['genres'] = df_title_basics['genres'].str.split(',')\n",
    "df_title_basics"
   ]
  },
  {
   "cell_type": "code",
   "execution_count": 23,
   "metadata": {},
   "outputs": [
    {
     "output_type": "execute_result",
     "data": {
      "text/plain": "             averageRating\ngenres                    \nAction            6.951029\nAdult             6.331053\nAdventure         7.056730\nAnimation         7.046786\nBiography         7.180115\nComedy            6.919199\nCrime             7.165008\nDocumentary       7.241741\nDrama             7.018454\nFamily            6.989731\nFantasy           7.093731\nFilm-Noir         6.636247\nGame-Show         6.679024\nHistory           7.304634\nHorror            6.033532\nMusic             6.890572\nMusical           6.544660\nMystery           7.215680\nNews              6.467539\nReality-TV        6.838867\nRomance           6.784248\nSci-Fi            6.747496\nShort             6.799363\nSport             6.995047\nTalk-Show         6.598412\nThriller          6.312686\nWar               7.026155\nWestern           7.109783\n\\N                6.442856",
      "text/html": "<div>\n<style scoped>\n    .dataframe tbody tr th:only-of-type {\n        vertical-align: middle;\n    }\n\n    .dataframe tbody tr th {\n        vertical-align: top;\n    }\n\n    .dataframe thead th {\n        text-align: right;\n    }\n</style>\n<table border=\"1\" class=\"dataframe\">\n  <thead>\n    <tr style=\"text-align: right;\">\n      <th></th>\n      <th>averageRating</th>\n    </tr>\n    <tr>\n      <th>genres</th>\n      <th></th>\n    </tr>\n  </thead>\n  <tbody>\n    <tr>\n      <th>Action</th>\n      <td>6.951029</td>\n    </tr>\n    <tr>\n      <th>Adult</th>\n      <td>6.331053</td>\n    </tr>\n    <tr>\n      <th>Adventure</th>\n      <td>7.056730</td>\n    </tr>\n    <tr>\n      <th>Animation</th>\n      <td>7.046786</td>\n    </tr>\n    <tr>\n      <th>Biography</th>\n      <td>7.180115</td>\n    </tr>\n    <tr>\n      <th>Comedy</th>\n      <td>6.919199</td>\n    </tr>\n    <tr>\n      <th>Crime</th>\n      <td>7.165008</td>\n    </tr>\n    <tr>\n      <th>Documentary</th>\n      <td>7.241741</td>\n    </tr>\n    <tr>\n      <th>Drama</th>\n      <td>7.018454</td>\n    </tr>\n    <tr>\n      <th>Family</th>\n      <td>6.989731</td>\n    </tr>\n    <tr>\n      <th>Fantasy</th>\n      <td>7.093731</td>\n    </tr>\n    <tr>\n      <th>Film-Noir</th>\n      <td>6.636247</td>\n    </tr>\n    <tr>\n      <th>Game-Show</th>\n      <td>6.679024</td>\n    </tr>\n    <tr>\n      <th>History</th>\n      <td>7.304634</td>\n    </tr>\n    <tr>\n      <th>Horror</th>\n      <td>6.033532</td>\n    </tr>\n    <tr>\n      <th>Music</th>\n      <td>6.890572</td>\n    </tr>\n    <tr>\n      <th>Musical</th>\n      <td>6.544660</td>\n    </tr>\n    <tr>\n      <th>Mystery</th>\n      <td>7.215680</td>\n    </tr>\n    <tr>\n      <th>News</th>\n      <td>6.467539</td>\n    </tr>\n    <tr>\n      <th>Reality-TV</th>\n      <td>6.838867</td>\n    </tr>\n    <tr>\n      <th>Romance</th>\n      <td>6.784248</td>\n    </tr>\n    <tr>\n      <th>Sci-Fi</th>\n      <td>6.747496</td>\n    </tr>\n    <tr>\n      <th>Short</th>\n      <td>6.799363</td>\n    </tr>\n    <tr>\n      <th>Sport</th>\n      <td>6.995047</td>\n    </tr>\n    <tr>\n      <th>Talk-Show</th>\n      <td>6.598412</td>\n    </tr>\n    <tr>\n      <th>Thriller</th>\n      <td>6.312686</td>\n    </tr>\n    <tr>\n      <th>War</th>\n      <td>7.026155</td>\n    </tr>\n    <tr>\n      <th>Western</th>\n      <td>7.109783</td>\n    </tr>\n    <tr>\n      <th>\\N</th>\n      <td>6.442856</td>\n    </tr>\n  </tbody>\n</table>\n</div>"
     },
     "metadata": {},
     "execution_count": 23
    }
   ],
   "source": [
    "df_genre_ratings = df_title_basics.merge(df_title_ratings, on='tconst')\n",
    "df_genre_ratings = df_genre_ratings.explode('genres').groupby('genres').mean()\n",
    "df_genre_ratings.to_csv(CURATED_LOCAL_PATH +'genre_ratings.csv')\n",
    "df_genre_ratings"
   ]
  },
  {
   "source": [
    "## La note moyenne de chaque acteur par rapport aux films dans lesquels il apparaît"
   ],
   "cell_type": "markdown",
   "metadata": {}
  },
  {
   "cell_type": "code",
   "execution_count": 29,
   "metadata": {},
   "outputs": [
    {
     "output_type": "execute_result",
     "data": {
      "text/plain": "nconst     primaryName     \nnm0000001  Fred Astaire        6.850000\nnm0000002  Lauren Bacall       7.114286\nnm0000003  Brigitte Bardot     5.911111\nnm0000004  John Belushi        6.550000\nnm0000006  Ingrid Bergman      6.789130\n                                 ...   \nnm9952131  Raul de Oliveira    5.800000\nnm9954430  Ivan Kalmykov       7.200000\nnm9959928  Johan Price         5.700000\nnm9959929  Fred Boston         5.700000\nnm9959930  Thomas Boston       5.700000\nName: averageRating, Length: 54385, dtype: float64"
     },
     "metadata": {},
     "execution_count": 29
    }
   ],
   "source": [
    "df_actors.merge(df_title_ratings, on='tconst').groupby(['nconst', 'primaryName'])['averageRating'].mean()"
   ]
  },
  {
   "source": [
    "## Bonus\n",
    "Elle souhaiterait pouvoir générer des recommandations de nouveaux films en fonction de l'historique de l'utilisateur.\n",
    "\n",
    "Content-based recommenders: suggest similar items based on a particular item. This system uses item metadata, such as genre, director, description, actors, etc. for movies, to make these recommendations. The general idea behind these recommender systems is that if a person likes a particular item, he or she will also like an item that is similar to it. And to recommend that, it will make use of the user's past item metadata. A good example could be YouTube, where based on your *history*, it suggests you new videos that you could potentially watch.\n",
    "\n",
    "### Problem formulation\n",
    "To build a recommender system that recommends movies based on the genre, cast, crew and some keywords of a previously watched movie."
   ],
   "cell_type": "markdown",
   "metadata": {}
  },
  {
   "source": [
    "https://medium.com/analytics-vidhya/metadata-based-recommender-systems-in-python-c6aae213b25c\n",
    "https://www.datacamp.com/community/tutorials/recommender-systems-python\n",
    "# ID / Title / Genres / Cast / Crew (director)"
   ],
   "cell_type": "markdown",
   "metadata": {}
  },
  {
   "cell_type": "code",
   "execution_count": 13,
   "metadata": {},
   "outputs": [],
   "source": [
    "data_loader.split_data('title.principals.tsv', 'category', 'director')"
   ]
  },
  {
   "cell_type": "code",
   "execution_count": 14,
   "metadata": {
    "tags": []
   },
   "outputs": [
    {
     "output_type": "execute_result",
     "data": {
      "text/plain": "             tconst     nconst         category\n0         tt0000001  nm1588970             self\n1         tt0000001  nm0005690         director\n2         tt0000001  nm0374658  cinematographer\n3         tt0000002  nm0721526         director\n4         tt0000002  nm1335271         composer\n...             ...        ...              ...\n36468812  tt9916880  nm0996406         director\n36468813  tt9916880  nm1482639           writer\n36468814  tt9916880  nm2586970           writer\n36468815  tt9916880  nm1594058         producer\n36468816  tt9916880  nm2676923          actress\n\n[36468817 rows x 3 columns]",
      "text/html": "<div>\n<style scoped>\n    .dataframe tbody tr th:only-of-type {\n        vertical-align: middle;\n    }\n\n    .dataframe tbody tr th {\n        vertical-align: top;\n    }\n\n    .dataframe thead th {\n        text-align: right;\n    }\n</style>\n<table border=\"1\" class=\"dataframe\">\n  <thead>\n    <tr style=\"text-align: right;\">\n      <th></th>\n      <th>tconst</th>\n      <th>nconst</th>\n      <th>category</th>\n    </tr>\n  </thead>\n  <tbody>\n    <tr>\n      <th>0</th>\n      <td>tt0000001</td>\n      <td>nm1588970</td>\n      <td>self</td>\n    </tr>\n    <tr>\n      <th>1</th>\n      <td>tt0000001</td>\n      <td>nm0005690</td>\n      <td>director</td>\n    </tr>\n    <tr>\n      <th>2</th>\n      <td>tt0000001</td>\n      <td>nm0374658</td>\n      <td>cinematographer</td>\n    </tr>\n    <tr>\n      <th>3</th>\n      <td>tt0000002</td>\n      <td>nm0721526</td>\n      <td>director</td>\n    </tr>\n    <tr>\n      <th>4</th>\n      <td>tt0000002</td>\n      <td>nm1335271</td>\n      <td>composer</td>\n    </tr>\n    <tr>\n      <th>...</th>\n      <td>...</td>\n      <td>...</td>\n      <td>...</td>\n    </tr>\n    <tr>\n      <th>36468812</th>\n      <td>tt9916880</td>\n      <td>nm0996406</td>\n      <td>director</td>\n    </tr>\n    <tr>\n      <th>36468813</th>\n      <td>tt9916880</td>\n      <td>nm1482639</td>\n      <td>writer</td>\n    </tr>\n    <tr>\n      <th>36468814</th>\n      <td>tt9916880</td>\n      <td>nm2586970</td>\n      <td>writer</td>\n    </tr>\n    <tr>\n      <th>36468815</th>\n      <td>tt9916880</td>\n      <td>nm1594058</td>\n      <td>producer</td>\n    </tr>\n    <tr>\n      <th>36468816</th>\n      <td>tt9916880</td>\n      <td>nm2676923</td>\n      <td>actress</td>\n    </tr>\n  </tbody>\n</table>\n<p>36468817 rows × 3 columns</p>\n</div>"
     },
     "metadata": {},
     "execution_count": 14
    }
   ],
   "source": [
    "df_principals = pd.read_csv(f'{RAW_LOCAL_PATH}title.principals.tsv', sep='\\t', usecols=['tconst', 'nconst', 'category'], encoding='utf-8')\n",
    "df_principals"
   ]
  },
  {
   "cell_type": "code",
   "execution_count": null,
   "metadata": {},
   "outputs": [],
   "source": []
  },
  {
   "cell_type": "code",
   "execution_count": 107,
   "metadata": {},
   "outputs": [
    {
     "output_type": "error",
     "ename": "NameError",
     "evalue": "name 'df_actors' is not defined",
     "traceback": [
      "\u001b[1;31m---------------------------------------------------------------------------\u001b[0m",
      "\u001b[1;31mNameError\u001b[0m                                 Traceback (most recent call last)",
      "\u001b[1;32m<ipython-input-107-6b90ce0c0fbf>\u001b[0m in \u001b[0;36m<module>\u001b[1;34m\u001b[0m\n\u001b[1;32m----> 1\u001b[1;33m \u001b[0mactors_group\u001b[0m \u001b[1;33m=\u001b[0m \u001b[0mdf_actors\u001b[0m\u001b[1;33m.\u001b[0m\u001b[0mgroupby\u001b[0m\u001b[1;33m(\u001b[0m\u001b[1;34m'tconst'\u001b[0m\u001b[1;33m)\u001b[0m\u001b[1;33m[\u001b[0m\u001b[1;34m'primaryName'\u001b[0m\u001b[1;33m]\u001b[0m\u001b[1;33m.\u001b[0m\u001b[0mapply\u001b[0m\u001b[1;33m(\u001b[0m\u001b[1;34m', '\u001b[0m\u001b[1;33m.\u001b[0m\u001b[0mjoin\u001b[0m\u001b[1;33m)\u001b[0m\u001b[1;33m\u001b[0m\u001b[1;33m\u001b[0m\u001b[0m\n\u001b[0m\u001b[0;32m      2\u001b[0m \u001b[0mactors_group\u001b[0m\u001b[1;33m\u001b[0m\u001b[1;33m\u001b[0m\u001b[0m\n",
      "\u001b[1;31mNameError\u001b[0m: name 'df_actors' is not defined"
     ]
    }
   ],
   "source": [
    "actors_group = df_actors.groupby('tconst')['primaryName'].apply(', '.join)\n",
    "actors_group"
   ]
  },
  {
   "cell_type": "code",
   "execution_count": 13,
   "metadata": {},
   "outputs": [
    {
     "output_type": "execute_result",
     "data": {
      "text/plain": "           tconst      nconst  category          primaryName\n0       tt0000192   nm0924920  director       James H. White\n1       tt0203699   nm0924920  director       James H. White\n2       tt0203782   nm0924920  director       James H. White\n3       tt0203948   nm0924920  director       James H. White\n4       tt0203956   nm0924920  director       James H. White\n...           ...         ...       ...                  ...\n166465  tt9915110   nm5225408  director  Juan Cota-Ysaguirre\n166466  tt9916144  nm10282565  director   Odd Arne Olderbakk\n166467  tt9916146  nm10282565  director   Odd Arne Olderbakk\n166468  tt9916152  nm10282565  director   Odd Arne Olderbakk\n166469  tt9916666   nm9554750  director         Yash Chauhan\n\n[166470 rows x 4 columns]",
      "text/html": "<div>\n<style scoped>\n    .dataframe tbody tr th:only-of-type {\n        vertical-align: middle;\n    }\n\n    .dataframe tbody tr th {\n        vertical-align: top;\n    }\n\n    .dataframe thead th {\n        text-align: right;\n    }\n</style>\n<table border=\"1\" class=\"dataframe\">\n  <thead>\n    <tr style=\"text-align: right;\">\n      <th></th>\n      <th>tconst</th>\n      <th>nconst</th>\n      <th>category</th>\n      <th>primaryName</th>\n    </tr>\n  </thead>\n  <tbody>\n    <tr>\n      <th>0</th>\n      <td>tt0000192</td>\n      <td>nm0924920</td>\n      <td>director</td>\n      <td>James H. White</td>\n    </tr>\n    <tr>\n      <th>1</th>\n      <td>tt0203699</td>\n      <td>nm0924920</td>\n      <td>director</td>\n      <td>James H. White</td>\n    </tr>\n    <tr>\n      <th>2</th>\n      <td>tt0203782</td>\n      <td>nm0924920</td>\n      <td>director</td>\n      <td>James H. White</td>\n    </tr>\n    <tr>\n      <th>3</th>\n      <td>tt0203948</td>\n      <td>nm0924920</td>\n      <td>director</td>\n      <td>James H. White</td>\n    </tr>\n    <tr>\n      <th>4</th>\n      <td>tt0203956</td>\n      <td>nm0924920</td>\n      <td>director</td>\n      <td>James H. White</td>\n    </tr>\n    <tr>\n      <th>...</th>\n      <td>...</td>\n      <td>...</td>\n      <td>...</td>\n      <td>...</td>\n    </tr>\n    <tr>\n      <th>166465</th>\n      <td>tt9915110</td>\n      <td>nm5225408</td>\n      <td>director</td>\n      <td>Juan Cota-Ysaguirre</td>\n    </tr>\n    <tr>\n      <th>166466</th>\n      <td>tt9916144</td>\n      <td>nm10282565</td>\n      <td>director</td>\n      <td>Odd Arne Olderbakk</td>\n    </tr>\n    <tr>\n      <th>166467</th>\n      <td>tt9916146</td>\n      <td>nm10282565</td>\n      <td>director</td>\n      <td>Odd Arne Olderbakk</td>\n    </tr>\n    <tr>\n      <th>166468</th>\n      <td>tt9916152</td>\n      <td>nm10282565</td>\n      <td>director</td>\n      <td>Odd Arne Olderbakk</td>\n    </tr>\n    <tr>\n      <th>166469</th>\n      <td>tt9916666</td>\n      <td>nm9554750</td>\n      <td>director</td>\n      <td>Yash Chauhan</td>\n    </tr>\n  </tbody>\n</table>\n<p>166470 rows × 4 columns</p>\n</div>"
     },
     "metadata": {},
     "execution_count": 13
    }
   ],
   "source": [
    "df_directors = df_principals[df_principals['category'] == 'director']\n",
    "df_directors = df_directors.merge(df_name_basics, on='nconst')\n",
    "df_directors"
   ]
  },
  {
   "cell_type": "code",
   "execution_count": 14,
   "metadata": {},
   "outputs": [
    {
     "output_type": "execute_result",
     "data": {
      "text/plain": "tconst\ntt0000192       James H. White\ntt0000194    Cecil M. Hepworth\ntt0000609         Gaston Velle\ntt0000615     Charles MacMahon\ntt0000846        Hermanos Alva\n                   ...        \ntt9916666         Yash Chauhan\ntt9916670         Hilary Audus\ntt9916682         Hilary Audus\ntt9916688         Hilary Audus\ntt9916880         Hilary Audus\nName: primaryName, Length: 164256, dtype: object"
     },
     "metadata": {},
     "execution_count": 14
    }
   ],
   "source": [
    "directors_group = df_directors.groupby('tconst')['primaryName'].apply(', '.join)\n",
    "directors_group"
   ]
  },
  {
   "cell_type": "code",
   "execution_count": 106,
   "metadata": {},
   "outputs": [
    {
     "output_type": "error",
     "ename": "NameError",
     "evalue": "name 'actors_group' is not defined",
     "traceback": [
      "\u001b[1;31m---------------------------------------------------------------------------\u001b[0m",
      "\u001b[1;31mNameError\u001b[0m                                 Traceback (most recent call last)",
      "\u001b[1;32m<ipython-input-106-dc6ccb031f14>\u001b[0m in \u001b[0;36m<module>\u001b[1;34m\u001b[0m\n\u001b[1;32m----> 1\u001b[1;33m \u001b[0mdf_actors_group\u001b[0m \u001b[1;33m=\u001b[0m \u001b[0mactors_group\u001b[0m\u001b[1;33m.\u001b[0m\u001b[0mto_frame\u001b[0m\u001b[1;33m(\u001b[0m\u001b[1;33m)\u001b[0m\u001b[1;33m\u001b[0m\u001b[1;33m\u001b[0m\u001b[0m\n\u001b[0m\u001b[0;32m      2\u001b[0m \u001b[0mdf_actors_group\u001b[0m \u001b[1;33m=\u001b[0m \u001b[0mdf_actors_group\u001b[0m\u001b[1;33m.\u001b[0m\u001b[0mrename\u001b[0m\u001b[1;33m(\u001b[0m\u001b[0mcolumns\u001b[0m\u001b[1;33m=\u001b[0m\u001b[1;33m{\u001b[0m\u001b[1;34m'primaryName'\u001b[0m\u001b[1;33m:\u001b[0m \u001b[1;34m'cast'\u001b[0m\u001b[1;33m}\u001b[0m\u001b[1;33m)\u001b[0m\u001b[1;33m\u001b[0m\u001b[1;33m\u001b[0m\u001b[0m\n",
      "\u001b[1;31mNameError\u001b[0m: name 'actors_group' is not defined"
     ]
    }
   ],
   "source": [
    "df_actors_group = actors_group.to_frame()\n",
    "df_actors_group = df_actors_group.rename(columns={'primaryName': 'cast'})"
   ]
  },
  {
   "cell_type": "code",
   "execution_count": 16,
   "metadata": {},
   "outputs": [],
   "source": [
    "df_directors_group = directors_group.to_frame()\n",
    "df_directors_group = df_directors_group.rename(columns={'primaryName': 'crew'})"
   ]
  },
  {
   "cell_type": "code",
   "execution_count": 105,
   "metadata": {},
   "outputs": [
    {
     "output_type": "error",
     "ename": "NameError",
     "evalue": "name 'df_actors_group' is not defined",
     "traceback": [
      "\u001b[1;31m---------------------------------------------------------------------------\u001b[0m",
      "\u001b[1;31mNameError\u001b[0m                                 Traceback (most recent call last)",
      "\u001b[1;32m<ipython-input-105-d840264b431c>\u001b[0m in \u001b[0;36m<module>\u001b[1;34m\u001b[0m\n\u001b[1;32m----> 1\u001b[1;33m \u001b[0mdf_cast_crew\u001b[0m \u001b[1;33m=\u001b[0m \u001b[0mdf_actors_group\u001b[0m\u001b[1;33m.\u001b[0m\u001b[0mmerge\u001b[0m\u001b[1;33m(\u001b[0m\u001b[0mdf_directors_group\u001b[0m\u001b[1;33m,\u001b[0m \u001b[0mon\u001b[0m\u001b[1;33m=\u001b[0m\u001b[1;34m'tconst'\u001b[0m\u001b[1;33m)\u001b[0m\u001b[1;33m\u001b[0m\u001b[1;33m\u001b[0m\u001b[0m\n\u001b[0m",
      "\u001b[1;31mNameError\u001b[0m: name 'df_actors_group' is not defined"
     ]
    }
   ],
   "source": [
    "df_cast_crew = df_actors_group.merge(df_directors_group, on='tconst')"
   ]
  },
  {
   "cell_type": "code",
   "execution_count": 104,
   "metadata": {},
   "outputs": [
    {
     "output_type": "error",
     "ename": "NameError",
     "evalue": "name 'df_cast_crew' is not defined",
     "traceback": [
      "\u001b[1;31m---------------------------------------------------------------------------\u001b[0m",
      "\u001b[1;31mNameError\u001b[0m                                 Traceback (most recent call last)",
      "\u001b[1;32m<ipython-input-104-26f30a1a0c89>\u001b[0m in \u001b[0;36m<module>\u001b[1;34m\u001b[0m\n\u001b[1;32m----> 1\u001b[1;33m \u001b[0mdf_merge\u001b[0m \u001b[1;33m=\u001b[0m \u001b[0mdf_cast_crew\u001b[0m\u001b[1;33m.\u001b[0m\u001b[0mmerge\u001b[0m\u001b[1;33m(\u001b[0m\u001b[0mdf_title_basics\u001b[0m\u001b[1;33m,\u001b[0m \u001b[0mon\u001b[0m\u001b[1;33m=\u001b[0m\u001b[1;34m'tconst'\u001b[0m\u001b[1;33m)\u001b[0m\u001b[1;33m\u001b[0m\u001b[1;33m\u001b[0m\u001b[0m\n\u001b[0m\u001b[0;32m      2\u001b[0m \u001b[0mdf_merge\u001b[0m\u001b[1;33m[\u001b[0m\u001b[1;34m'cast'\u001b[0m\u001b[1;33m]\u001b[0m \u001b[1;33m=\u001b[0m \u001b[0mdf_merge\u001b[0m\u001b[1;33m[\u001b[0m\u001b[1;34m'cast'\u001b[0m\u001b[1;33m]\u001b[0m\u001b[1;33m.\u001b[0m\u001b[0mapply\u001b[0m\u001b[1;33m(\u001b[0m\u001b[1;32mlambda\u001b[0m \u001b[0mx\u001b[0m\u001b[1;33m:\u001b[0m \u001b[0mx\u001b[0m\u001b[1;33m.\u001b[0m\u001b[0mreplace\u001b[0m\u001b[1;33m(\u001b[0m\u001b[1;34m' '\u001b[0m\u001b[1;33m,\u001b[0m \u001b[1;34m''\u001b[0m\u001b[1;33m)\u001b[0m\u001b[1;33m)\u001b[0m\u001b[1;33m\u001b[0m\u001b[1;33m\u001b[0m\u001b[0m\n\u001b[0;32m      3\u001b[0m \u001b[0mdf_merge\u001b[0m\u001b[1;33m[\u001b[0m\u001b[1;34m'crew'\u001b[0m\u001b[1;33m]\u001b[0m \u001b[1;33m=\u001b[0m \u001b[0mdf_merge\u001b[0m\u001b[1;33m[\u001b[0m\u001b[1;34m'crew'\u001b[0m\u001b[1;33m]\u001b[0m\u001b[1;33m.\u001b[0m\u001b[0mapply\u001b[0m\u001b[1;33m(\u001b[0m\u001b[1;32mlambda\u001b[0m \u001b[0mx\u001b[0m\u001b[1;33m:\u001b[0m \u001b[0mx\u001b[0m\u001b[1;33m.\u001b[0m\u001b[0mreplace\u001b[0m\u001b[1;33m(\u001b[0m\u001b[1;34m' '\u001b[0m\u001b[1;33m,\u001b[0m \u001b[1;34m''\u001b[0m\u001b[1;33m)\u001b[0m\u001b[1;33m)\u001b[0m\u001b[1;33m\u001b[0m\u001b[1;33m\u001b[0m\u001b[0m\n\u001b[0;32m      4\u001b[0m \u001b[0mdf_merge\u001b[0m\u001b[1;33m[\u001b[0m\u001b[1;34m'cast'\u001b[0m\u001b[1;33m]\u001b[0m \u001b[1;33m=\u001b[0m \u001b[0mdf_merge\u001b[0m\u001b[1;33m[\u001b[0m\u001b[1;34m'cast'\u001b[0m\u001b[1;33m]\u001b[0m\u001b[1;33m.\u001b[0m\u001b[0mapply\u001b[0m\u001b[1;33m(\u001b[0m\u001b[1;32mlambda\u001b[0m \u001b[0mx\u001b[0m\u001b[1;33m:\u001b[0m \u001b[0mx\u001b[0m\u001b[1;33m.\u001b[0m\u001b[0msplit\u001b[0m\u001b[1;33m(\u001b[0m\u001b[1;34m','\u001b[0m\u001b[1;33m)\u001b[0m\u001b[1;33m)\u001b[0m\u001b[1;33m\u001b[0m\u001b[1;33m\u001b[0m\u001b[0m\n\u001b[0;32m      5\u001b[0m \u001b[0mdf_merge\u001b[0m\u001b[1;33m[\u001b[0m\u001b[1;34m'crew'\u001b[0m\u001b[1;33m]\u001b[0m \u001b[1;33m=\u001b[0m \u001b[0mdf_merge\u001b[0m\u001b[1;33m[\u001b[0m\u001b[1;34m'crew'\u001b[0m\u001b[1;33m]\u001b[0m\u001b[1;33m.\u001b[0m\u001b[0mapply\u001b[0m\u001b[1;33m(\u001b[0m\u001b[1;32mlambda\u001b[0m \u001b[0mx\u001b[0m\u001b[1;33m:\u001b[0m \u001b[0mx\u001b[0m\u001b[1;33m.\u001b[0m\u001b[0msplit\u001b[0m\u001b[1;33m(\u001b[0m\u001b[1;34m','\u001b[0m\u001b[1;33m)\u001b[0m\u001b[1;33m)\u001b[0m\u001b[1;33m\u001b[0m\u001b[1;33m\u001b[0m\u001b[0m\n",
      "\u001b[1;31mNameError\u001b[0m: name 'df_cast_crew' is not defined"
     ]
    }
   ],
   "source": [
    "df_merge = df_cast_crew.merge(df_title_basics, on='tconst')\n",
    "df_merge['cast'] = df_merge['cast'].apply(lambda x: x.replace(' ', ''))\n",
    "df_merge['crew'] = df_merge['crew'].apply(lambda x: x.replace(' ', ''))\n",
    "df_merge['cast'] = df_merge['cast'].apply(lambda x: x.split(','))\n",
    "df_merge['crew'] = df_merge['crew'].apply(lambda x: x.split(','))\n",
    "df_merge['genres'] = df_merge['genres'].apply(lambda x: x.split(','))\n",
    "df_merge"
   ]
  },
  {
   "cell_type": "code",
   "execution_count": 46,
   "metadata": {},
   "outputs": [],
   "source": [
    "df_merge['metadata'] = df_merge.apply(lambda x : ' '.join(x['genres']) + ' ' + ' '.join(x['cast']) + ' ' + ' '.join(x['crew']), axis = 1)"
   ]
  },
  {
   "cell_type": "code",
   "execution_count": null,
   "metadata": {},
   "outputs": [],
   "source": [
    "count_vec = CountVectorizer(stop_words=’english’)\n",
    "count_vec_matrix = count_vec.fit_transform(movies_df[‘metadata’])\n",
    "cosine_sim_matrix = cosine_similarity(count_vec_matrix, count_vec_matrix)\n",
    "#movies index mapping\n",
    "mapping = pd.Series(movies_df.index,index = movies_df[‘title’])"
   ]
  },
  {
   "cell_type": "code",
   "execution_count": null,
   "metadata": {},
   "outputs": [],
   "source": [
    "\n",
    "#recommender function to recommend movies based on metadata\n",
    "def recommend_movies_based_on_metadata(movie_input):\n",
    "    movie_index = mapping[movie_input]\n",
    "    #get similarity values with other movies\n",
    "    similarity_score = list(enumerate(cosine_sim_matrix[movie_index]))\n",
    "    similarity_score = sorted(similarity_score, key=lambda x: x[1], reverse=True)\n",
    "    # Get the scores of the 15 most similar movies. Ignore the first movie.\n",
    "    similarity_score = similarity_score[1:15]\n",
    "    movie_indices = [i[0] for i in similarity_score]\n",
    "    return (movies_df[‘title’].iloc[movie_indices])"
   ]
  }
 ]
}