{
 "metadata": {
  "language_info": {
   "codemirror_mode": {
    "name": "ipython",
    "version": 3
   },
   "file_extension": ".py",
   "mimetype": "text/x-python",
   "name": "python",
   "nbconvert_exporter": "python",
   "pygments_lexer": "ipython3",
   "version": "3.7.9-final"
  },
  "orig_nbformat": 2,
  "kernelspec": {
   "name": "Python 3.7.9 64-bit ('intermovie': conda)",
   "display_name": "Python 3.7.9 64-bit ('intermovie': conda)",
   "metadata": {
    "interpreter": {
     "hash": "e158c6071094e0b3fdd2c320e554ca330ac70e308835a49627938a89d3ec7dcb"
    }
   }
  }
 },
 "nbformat": 4,
 "nbformat_minor": 2,
 "cells": [
  {
   "source": [
    "# Intermovie"
   ],
   "cell_type": "markdown",
   "metadata": {}
  },
  {
   "source": [
    "## Imports and useful functions"
   ],
   "cell_type": "markdown",
   "metadata": {}
  },
  {
   "source": [
    "%load_ext autoreload\n",
    "%autoreload 2\n",
    "\n",
    "import pandas as pd\n",
    "import random\n",
    "from sklearn.feature_extraction.text import CountVectorizer\n",
    "from sklearn.metrics.pairwise import cosine_similarity\n",
    "\n",
    "from modules.loader import IntermovieDataLoader \n",
    "\n",
    "CURATED_LOCAL_PATH = '../data/CURATED/'\n",
    "RAW_LOCAL_PATH = '../data/RAW/'\n",
    "\n",
    "data_loader = IntermovieDataLoader()"
   ],
   "cell_type": "code",
   "metadata": {
    "tags": []
   },
   "execution_count": null,
   "outputs": []
  },
  {
   "cell_type": "code",
   "execution_count": null,
   "metadata": {
    "tags": []
   },
   "outputs": [],
   "source": [
    "data_loader.split_data('title.principals.tsv', 'category', ['actor', 'actress', 'director'])\n",
    "data_loader.split_data('title.akas.tsv', 'region', ['US'])"
   ]
  },
  {
   "cell_type": "code",
   "execution_count": null,
   "metadata": {},
   "outputs": [],
   "source": [
    "global_df_names = pd.read_csv(f'{RAW_LOCAL_PATH}name.basics.tsv', sep='\\t', usecols=[\"nconst\", \"primaryName\"], encoding='utf-8')\n",
    "global_df_title_ratings = pd.read_csv(f'{RAW_LOCAL_PATH}title.ratings.tsv', sep='\\t', usecols=['tconst', 'averageRating'], index_col='tconst', encoding='utf-8')"
   ]
  },
  {
   "cell_type": "code",
   "execution_count": 12,
   "metadata": {},
   "outputs": [],
   "source": [
    "global_df_title_basics = pd.read_csv(f'{RAW_LOCAL_PATH}title.basics.tsv', sep='\\t', usecols=['tconst', 'titleType', 'originalTitle', 'genres', ], index_col='tconst', encoding='utf-8')"
   ]
  },
  {
   "source": [
    "\n",
    "## 1. La liste des *acteurs* par *film*"
   ],
   "cell_type": "markdown",
   "metadata": {}
  },
  {
   "cell_type": "code",
   "execution_count": null,
   "metadata": {},
   "outputs": [],
   "source": [
    "# Concatenate actors and actress\n",
    "df_actors = pd.concat([pd.read_csv(f'{CURATED_LOCAL_PATH}actor.csv', usecols=['tconst', 'nconst'], encoding='utf-8'), pd.read_csv(f'{CURATED_LOCAL_PATH}actress.csv', usecols=['tconst', 'nconst'], encoding='utf-8')])\n",
    "\n",
    "# Get actors name\n",
    "df_actors = df_actors.merge(global_df_names)\n",
    "\n",
    "cast = df_actors.groupby('tconst')['primaryName'].apply(', '.join)"
   ]
  },
  {
   "cell_type": "code",
   "execution_count": 29,
   "metadata": {},
   "outputs": [
    {
     "output_type": "execute_result",
     "data": {
      "text/plain": "                                                        cast  \\\ntconst                                                         \ntt0000009  William Courtenay, Chauncey Depew, Blanche Bay...   \ntt0000335  Harold Graham, Mr. Graham, John Jones, Orrie P...   \ntt0000502                      Antonio del Pozo, El Mochuelo   \ntt0000574  John Tait, Norman Campbell, Elizabeth Tait, Be...   \ntt0000615  Jim Gerald, George Merriman, Lance Vane, Willi...   \n...                                                      ...   \ntt9916428  Kenan Heppe, Vincent Matile, Shenyang Xiao, A....   \ntt9916538                                         Sahil Shah   \ntt9916622                                Oldair Soares Ammom   \ntt9916706     Vijay Patkar, Makarand Anaspure, Sandip Pathak   \ntt9916730  Sunil Barve, Bhushan Pradhan, Archit Deodhar, ...   \n\n                                         originalTitle  \\\ntconst                                                   \ntt0000009                                   Miss Jerry   \ntt0000335                        Soldiers of the Cross   \ntt0000502                                     Bohemios   \ntt0000574                  The Story of the Kelly Gang   \ntt0000615                           Robbery Under Arms   \n...                                                ...   \ntt9916428                          The Secret of China   \ntt9916538                          Kuambil Lagi Hatiku   \ntt9916622  Rodolpho Teóphilo - O Legado de um Pioneiro   \ntt9916706                              Dankyavar Danka   \ntt9916730                                       6 Gunn   \n\n                              genres  \ntconst                                \ntt0000009                  [Romance]  \ntt0000335         [Biography, Drama]  \ntt0000502                       [\\N]  \ntt0000574  [Biography, Crime, Drama]  \ntt0000615                    [Drama]  \n...                              ...  \ntt9916428  [Adventure, History, War]  \ntt9916538                    [Drama]  \ntt9916622              [Documentary]  \ntt9916706                   [Comedy]  \ntt9916730                       [\\N]  \n\n[376892 rows x 3 columns]",
      "text/html": "<div>\n<style scoped>\n    .dataframe tbody tr th:only-of-type {\n        vertical-align: middle;\n    }\n\n    .dataframe tbody tr th {\n        vertical-align: top;\n    }\n\n    .dataframe thead th {\n        text-align: right;\n    }\n</style>\n<table border=\"1\" class=\"dataframe\">\n  <thead>\n    <tr style=\"text-align: right;\">\n      <th></th>\n      <th>cast</th>\n      <th>originalTitle</th>\n      <th>genres</th>\n    </tr>\n    <tr>\n      <th>tconst</th>\n      <th></th>\n      <th></th>\n      <th></th>\n    </tr>\n  </thead>\n  <tbody>\n    <tr>\n      <th>tt0000009</th>\n      <td>William Courtenay, Chauncey Depew, Blanche Bay...</td>\n      <td>Miss Jerry</td>\n      <td>[Romance]</td>\n    </tr>\n    <tr>\n      <th>tt0000335</th>\n      <td>Harold Graham, Mr. Graham, John Jones, Orrie P...</td>\n      <td>Soldiers of the Cross</td>\n      <td>[Biography, Drama]</td>\n    </tr>\n    <tr>\n      <th>tt0000502</th>\n      <td>Antonio del Pozo, El Mochuelo</td>\n      <td>Bohemios</td>\n      <td>[\\N]</td>\n    </tr>\n    <tr>\n      <th>tt0000574</th>\n      <td>John Tait, Norman Campbell, Elizabeth Tait, Be...</td>\n      <td>The Story of the Kelly Gang</td>\n      <td>[Biography, Crime, Drama]</td>\n    </tr>\n    <tr>\n      <th>tt0000615</th>\n      <td>Jim Gerald, George Merriman, Lance Vane, Willi...</td>\n      <td>Robbery Under Arms</td>\n      <td>[Drama]</td>\n    </tr>\n    <tr>\n      <th>...</th>\n      <td>...</td>\n      <td>...</td>\n      <td>...</td>\n    </tr>\n    <tr>\n      <th>tt9916428</th>\n      <td>Kenan Heppe, Vincent Matile, Shenyang Xiao, A....</td>\n      <td>The Secret of China</td>\n      <td>[Adventure, History, War]</td>\n    </tr>\n    <tr>\n      <th>tt9916538</th>\n      <td>Sahil Shah</td>\n      <td>Kuambil Lagi Hatiku</td>\n      <td>[Drama]</td>\n    </tr>\n    <tr>\n      <th>tt9916622</th>\n      <td>Oldair Soares Ammom</td>\n      <td>Rodolpho Teóphilo - O Legado de um Pioneiro</td>\n      <td>[Documentary]</td>\n    </tr>\n    <tr>\n      <th>tt9916706</th>\n      <td>Vijay Patkar, Makarand Anaspure, Sandip Pathak</td>\n      <td>Dankyavar Danka</td>\n      <td>[Comedy]</td>\n    </tr>\n    <tr>\n      <th>tt9916730</th>\n      <td>Sunil Barve, Bhushan Pradhan, Archit Deodhar, ...</td>\n      <td>6 Gunn</td>\n      <td>[\\N]</td>\n    </tr>\n  </tbody>\n</table>\n<p>376892 rows × 3 columns</p>\n</div>"
     },
     "metadata": {},
     "execution_count": 29
    }
   ],
   "source": [
    "df_movies = global_df_title_basics[global_df_title_basics['titleType'] == 'movie']\n",
    "df_movies.drop(columns=['titleType'], inplace=True)\n",
    "df_actors_by_movie = cast.to_frame().merge(df_movies, on='tconst')\n",
    "df_actors_by_movie.rename(columns={'primaryName': 'cast'}, inplace='True')\n",
    "df_actors_by_movie.to_csv(CURATED_LOCAL_PATH +'cast.movies.csv', columns=['originalTitle', 'cast'])\n",
    "df_actors_by_movie"
   ]
  },
  {
   "source": [
    "## 2. La liste des *films Américains* (en gardant leur *nom en français*) et *leur note moyenne*"
   ],
   "cell_type": "markdown",
   "metadata": {}
  },
  {
   "source": [
    "### Titres Américains"
   ],
   "cell_type": "markdown",
   "metadata": {}
  },
  {
   "cell_type": "code",
   "execution_count": 17,
   "metadata": {},
   "outputs": [
    {
     "output_type": "execute_result",
     "data": {
      "text/plain": "          region\ntitleId         \ntt0000001     US\ntt0000002     US\ntt0000005     US\ntt0000006     US\ntt0000007     US\n...          ...\ntt9914458     US\ntt9914772     US\ntt9915188     US\ntt9915436     US\ntt9916720     US\n\n[815853 rows x 1 columns]",
      "text/html": "<div>\n<style scoped>\n    .dataframe tbody tr th:only-of-type {\n        vertical-align: middle;\n    }\n\n    .dataframe tbody tr th {\n        vertical-align: top;\n    }\n\n    .dataframe thead th {\n        text-align: right;\n    }\n</style>\n<table border=\"1\" class=\"dataframe\">\n  <thead>\n    <tr style=\"text-align: right;\">\n      <th></th>\n      <th>region</th>\n    </tr>\n    <tr>\n      <th>titleId</th>\n      <th></th>\n    </tr>\n  </thead>\n  <tbody>\n    <tr>\n      <th>tt0000001</th>\n      <td>US</td>\n    </tr>\n    <tr>\n      <th>tt0000002</th>\n      <td>US</td>\n    </tr>\n    <tr>\n      <th>tt0000005</th>\n      <td>US</td>\n    </tr>\n    <tr>\n      <th>tt0000006</th>\n      <td>US</td>\n    </tr>\n    <tr>\n      <th>tt0000007</th>\n      <td>US</td>\n    </tr>\n    <tr>\n      <th>...</th>\n      <td>...</td>\n    </tr>\n    <tr>\n      <th>tt9914458</th>\n      <td>US</td>\n    </tr>\n    <tr>\n      <th>tt9914772</th>\n      <td>US</td>\n    </tr>\n    <tr>\n      <th>tt9915188</th>\n      <td>US</td>\n    </tr>\n    <tr>\n      <th>tt9915436</th>\n      <td>US</td>\n    </tr>\n    <tr>\n      <th>tt9916720</th>\n      <td>US</td>\n    </tr>\n  </tbody>\n</table>\n<p>815853 rows × 1 columns</p>\n</div>"
     },
     "metadata": {},
     "execution_count": 17
    }
   ],
   "source": [
    "df_us = pd.read_csv(f'{CURATED_LOCAL_PATH}US.csv', usecols=['titleId', 'region'], index_col='titleId', encoding='utf-8')\n",
    "df_us = df_us[~df_us.index.duplicated(keep='first')]\n",
    "df_us"
   ]
  },
  {
   "source": [
    "### En gardant le nom français"
   ],
   "cell_type": "markdown",
   "metadata": {}
  },
  {
   "cell_type": "code",
   "execution_count": 22,
   "metadata": {
    "tags": []
   },
   "outputs": [
    {
     "output_type": "execute_result",
     "data": {
      "text/plain": "              tconst                   originalTitle region  averageRating\ntt0000009  tt0000009                      Miss Jerry     US            5.4\ntt0000147  tt0000147   The Corbett-Fitzsimmons Fight     US            5.2\ntt0000630  tt0000630                          Amleto     US            2.7\ntt0000679  tt0000679  The Fairylogue and Radio-Plays     US            4.8\ntt0000886  tt0000886                          Hamlet     US            5.2\n...              ...                             ...    ...            ...\ntt9904328  tt9904328        Christmas in New England     US            NaN\ntt9906644  tt9906644                       Manoharam     US            7.6\ntt9908592  tt9908592           Filmmakers Unite (FU)     US            NaN\ntt9909228  tt9909228                           Ximei     US            5.5\ntt9915436  tt9915436               Vida em Movimento     US            NaN\n\n[166284 rows x 4 columns]",
      "text/html": "<div>\n<style scoped>\n    .dataframe tbody tr th:only-of-type {\n        vertical-align: middle;\n    }\n\n    .dataframe tbody tr th {\n        vertical-align: top;\n    }\n\n    .dataframe thead th {\n        text-align: right;\n    }\n</style>\n<table border=\"1\" class=\"dataframe\">\n  <thead>\n    <tr style=\"text-align: right;\">\n      <th></th>\n      <th>tconst</th>\n      <th>originalTitle</th>\n      <th>region</th>\n      <th>averageRating</th>\n    </tr>\n  </thead>\n  <tbody>\n    <tr>\n      <th>tt0000009</th>\n      <td>tt0000009</td>\n      <td>Miss Jerry</td>\n      <td>US</td>\n      <td>5.4</td>\n    </tr>\n    <tr>\n      <th>tt0000147</th>\n      <td>tt0000147</td>\n      <td>The Corbett-Fitzsimmons Fight</td>\n      <td>US</td>\n      <td>5.2</td>\n    </tr>\n    <tr>\n      <th>tt0000630</th>\n      <td>tt0000630</td>\n      <td>Amleto</td>\n      <td>US</td>\n      <td>2.7</td>\n    </tr>\n    <tr>\n      <th>tt0000679</th>\n      <td>tt0000679</td>\n      <td>The Fairylogue and Radio-Plays</td>\n      <td>US</td>\n      <td>4.8</td>\n    </tr>\n    <tr>\n      <th>tt0000886</th>\n      <td>tt0000886</td>\n      <td>Hamlet</td>\n      <td>US</td>\n      <td>5.2</td>\n    </tr>\n    <tr>\n      <th>...</th>\n      <td>...</td>\n      <td>...</td>\n      <td>...</td>\n      <td>...</td>\n    </tr>\n    <tr>\n      <th>tt9904328</th>\n      <td>tt9904328</td>\n      <td>Christmas in New England</td>\n      <td>US</td>\n      <td>NaN</td>\n    </tr>\n    <tr>\n      <th>tt9906644</th>\n      <td>tt9906644</td>\n      <td>Manoharam</td>\n      <td>US</td>\n      <td>7.6</td>\n    </tr>\n    <tr>\n      <th>tt9908592</th>\n      <td>tt9908592</td>\n      <td>Filmmakers Unite (FU)</td>\n      <td>US</td>\n      <td>NaN</td>\n    </tr>\n    <tr>\n      <th>tt9909228</th>\n      <td>tt9909228</td>\n      <td>Ximei</td>\n      <td>US</td>\n      <td>5.5</td>\n    </tr>\n    <tr>\n      <th>tt9915436</th>\n      <td>tt9915436</td>\n      <td>Vida em Movimento</td>\n      <td>US</td>\n      <td>NaN</td>\n    </tr>\n  </tbody>\n</table>\n<p>166284 rows × 4 columns</p>\n</div>"
     },
     "metadata": {},
     "execution_count": 22
    }
   ],
   "source": [
    "df_movies_us = df_movies.merge(df_us, left_index=True, left_on='tconst', right_index=True, right_on='titleId')\n",
    "df_movies_us_ratings = df_movies_us.merge(global_df_title_ratings, left_on='tconst', right_index=True, right_on='tconst', how='left')\n",
    "df_movies_us_ratings.to_csv(f'{CURATED_LOCAL_PATH}movies.us.ratings.csv', index=False)\n",
    "df_movies_us_ratings"
   ]
  },
  {
   "source": [
    "## Les notes moyennes des différents genres\n"
   ],
   "cell_type": "markdown",
   "metadata": {}
  },
  {
   "cell_type": "code",
   "execution_count": 18,
   "metadata": {},
   "outputs": [
    {
     "output_type": "execute_result",
     "data": {
      "text/plain": "             averageRating\ngenres                    \nAction            6.951029\nAdult             6.331053\nAdventure         7.056730\nAnimation         7.046786\nBiography         7.180115\nComedy            6.919199\nCrime             7.165008\nDocumentary       7.241741\nDrama             7.018454\nFamily            6.989731\nFantasy           7.093731\nFilm-Noir         6.636247\nGame-Show         6.679024\nHistory           7.304634\nHorror            6.033532\nMusic             6.890572\nMusical           6.544660\nMystery           7.215680\nNews              6.467539\nReality-TV        6.838867\nRomance           6.784248\nSci-Fi            6.747496\nShort             6.799363\nSport             6.995047\nTalk-Show         6.598412\nThriller          6.312686\nWar               7.026155\nWestern           7.109783\n\\N                6.442856",
      "text/html": "<div>\n<style scoped>\n    .dataframe tbody tr th:only-of-type {\n        vertical-align: middle;\n    }\n\n    .dataframe tbody tr th {\n        vertical-align: top;\n    }\n\n    .dataframe thead th {\n        text-align: right;\n    }\n</style>\n<table border=\"1\" class=\"dataframe\">\n  <thead>\n    <tr style=\"text-align: right;\">\n      <th></th>\n      <th>averageRating</th>\n    </tr>\n    <tr>\n      <th>genres</th>\n      <th></th>\n    </tr>\n  </thead>\n  <tbody>\n    <tr>\n      <th>Action</th>\n      <td>6.951029</td>\n    </tr>\n    <tr>\n      <th>Adult</th>\n      <td>6.331053</td>\n    </tr>\n    <tr>\n      <th>Adventure</th>\n      <td>7.056730</td>\n    </tr>\n    <tr>\n      <th>Animation</th>\n      <td>7.046786</td>\n    </tr>\n    <tr>\n      <th>Biography</th>\n      <td>7.180115</td>\n    </tr>\n    <tr>\n      <th>Comedy</th>\n      <td>6.919199</td>\n    </tr>\n    <tr>\n      <th>Crime</th>\n      <td>7.165008</td>\n    </tr>\n    <tr>\n      <th>Documentary</th>\n      <td>7.241741</td>\n    </tr>\n    <tr>\n      <th>Drama</th>\n      <td>7.018454</td>\n    </tr>\n    <tr>\n      <th>Family</th>\n      <td>6.989731</td>\n    </tr>\n    <tr>\n      <th>Fantasy</th>\n      <td>7.093731</td>\n    </tr>\n    <tr>\n      <th>Film-Noir</th>\n      <td>6.636247</td>\n    </tr>\n    <tr>\n      <th>Game-Show</th>\n      <td>6.679024</td>\n    </tr>\n    <tr>\n      <th>History</th>\n      <td>7.304634</td>\n    </tr>\n    <tr>\n      <th>Horror</th>\n      <td>6.033532</td>\n    </tr>\n    <tr>\n      <th>Music</th>\n      <td>6.890572</td>\n    </tr>\n    <tr>\n      <th>Musical</th>\n      <td>6.544660</td>\n    </tr>\n    <tr>\n      <th>Mystery</th>\n      <td>7.215680</td>\n    </tr>\n    <tr>\n      <th>News</th>\n      <td>6.467539</td>\n    </tr>\n    <tr>\n      <th>Reality-TV</th>\n      <td>6.838867</td>\n    </tr>\n    <tr>\n      <th>Romance</th>\n      <td>6.784248</td>\n    </tr>\n    <tr>\n      <th>Sci-Fi</th>\n      <td>6.747496</td>\n    </tr>\n    <tr>\n      <th>Short</th>\n      <td>6.799363</td>\n    </tr>\n    <tr>\n      <th>Sport</th>\n      <td>6.995047</td>\n    </tr>\n    <tr>\n      <th>Talk-Show</th>\n      <td>6.598412</td>\n    </tr>\n    <tr>\n      <th>Thriller</th>\n      <td>6.312686</td>\n    </tr>\n    <tr>\n      <th>War</th>\n      <td>7.026155</td>\n    </tr>\n    <tr>\n      <th>Western</th>\n      <td>7.109783</td>\n    </tr>\n    <tr>\n      <th>\\N</th>\n      <td>6.442856</td>\n    </tr>\n  </tbody>\n</table>\n</div>"
     },
     "metadata": {},
     "execution_count": 18
    }
   ],
   "source": [
    "global_df_title_basics['genres'] = global_df_title_basics['genres'].str.split(',')\n",
    "df_genre_ratings = global_df_title_basics.merge(global_df_title_ratings, on='tconst')\n",
    "df_genre_ratings = df_genre_ratings.explode('genres').groupby('genres').mean()\n",
    "df_genre_ratings.to_csv(CURATED_LOCAL_PATH +'genres.ratings.csv')\n",
    "df_genre_ratings"
   ]
  },
  {
   "source": [
    "## La note moyenne de chaque acteur par rapport aux films dans lesquels il apparaît"
   ],
   "cell_type": "markdown",
   "metadata": {}
  },
  {
   "cell_type": "code",
   "execution_count": 21,
   "metadata": {},
   "outputs": [
    {
     "output_type": "execute_result",
     "data": {
      "text/plain": "nconst     primaryName              \nnm0000001  Fred Astaire                 6.802778\nnm0000004  John Belushi                 6.371429\nnm0000005  Ingmar Bergman               7.033333\nnm0000007  Humphrey Bogart              6.912500\nnm0000008  Marlon Brando                6.738462\n                                          ...   \nnm9993567  Hachiro Chiba                     NaN\nnm9993616  Ryan Mac Lennan              6.500000\nnm9993636  Adam French                       NaN\nnm9993650  Marcin Balcerak              5.200000\nnm9993680  Christopher-Lawson Palmer         NaN\nName: averageRating, Length: 359686, dtype: float64"
     },
     "metadata": {},
     "execution_count": 21
    }
   ],
   "source": [
    "df_movies_ratings = df_movies.merge(global_df_title_ratings, left_on='tconst', right_index=True, right_on='tconst', how='left')\n",
    "df_actors_ratings = df_actors.merge(df_movies_ratings, on='tconst')\n",
    "df_actors_ratings = df_actors_ratings.groupby(['nconst', 'primaryName'])['averageRating'].mean()\n",
    "df_actors_ratings.to_csv(CURATED_LOCAL_PATH +'actors.ratings.csv')\n",
    "df_actors_ratings"
   ]
  },
  {
   "source": [
    "## Bonus\n",
    "\n",
    "Content-based recommenders: suggest similar items based on a particular item. This system uses item metadata, such as genre, director, description, actors, etc. for movies, to make these recommendations. The general idea behind these recommender systems is that if a person likes a particular item, he or she will also like an item that is similar to it. And to recommend that, it will make use of the user's past item metadata. A good example could be YouTube, where based on your *history*, it suggests you new videos that you could potentially watch.\n",
    "\n",
    "### Problem formulation\n",
    "To build a recommender system that recommends movies based on the genre, cast and crew of a previously watched movie."
   ],
   "cell_type": "markdown",
   "metadata": {}
  },
  {
   "cell_type": "code",
   "execution_count": 47,
   "metadata": {},
   "outputs": [],
   "source": [
    "df_cast = cast.to_frame()\n",
    "df_cast.rename(columns={'primaryName': 'cast'}, inplace='True')"
   ]
  },
  {
   "cell_type": "code",
   "execution_count": 48,
   "metadata": {},
   "outputs": [],
   "source": [
    "df_directors = pd.read_csv(f'{CURATED_LOCAL_PATH}director.csv', usecols=['tconst', 'nconst'], encoding='utf-8')\n",
    "df_directors = df_directors.merge(global_df_names)\n",
    "directors = df_directors.groupby('tconst')['primaryName'].apply(', '.join)"
   ]
  },
  {
   "cell_type": "code",
   "execution_count": 49,
   "metadata": {},
   "outputs": [],
   "source": [
    "df_directors = directors.to_frame()\n",
    "df_directors.rename(columns={'primaryName': 'crew'}, inplace='True')"
   ]
  },
  {
   "cell_type": "code",
   "execution_count": 50,
   "metadata": {},
   "outputs": [],
   "source": [
    "df_cast_crew = df_cast.merge(df_directors, on='tconst')"
   ]
  },
  {
   "cell_type": "code",
   "execution_count": 51,
   "metadata": {},
   "outputs": [
    {
     "output_type": "execute_result",
     "data": {
      "text/plain": "                                                        cast  \\\ntconst                                                         \ntt0000009  [WilliamCourtenay, ChaunceyDepew, BlancheBayliss]   \ntt0000335               [HaroldGraham, Mr.Graham, JohnJones]   \ntt0000502                       [AntoniodelPozo, ElMochuelo]   \ntt0000574          [JohnTait, NormanCampbell, ElizabethTait]   \ntt0000615             [JimGerald, GeorgeMerriman, LanceVane]   \n...                                                      ...   \ntt0004302             [FredMontague, MaxFigman, HarryFisher]   \ntt0004303   [HenryWeaver, LucienMuratore, WilliamL.Abingdon]   \ntt0004306    [WellingtonA.Playter, GeorgeMoss, HalClarendon]   \ntt0004307       [RayMyers, HerbertRawlinson, LawrencePeyton]   \ntt0004314          [FredMontague, HarryFisher, EdmundBreese]   \n\n                                   crew                originalTitle  \\\ntconst                                                                 \ntt0000009              [AlexanderBlack]                   Miss Jerry   \ntt0000335   [HerbertBooth, JosephPerry]        Soldiers of the Cross   \ntt0000502              [RicardodeBaños]                     Bohemios   \ntt0000574                 [CharlesTait]  The Story of the Kelly Gang   \ntt0000615             [CharlesMacMahon]           Robbery Under Arms   \n...                                 ...                          ...   \ntt0004302  [OscarApfel, CecilB.DeMille]           The Man on the Box   \ntt0004303          [HerbertHallWinslow]                Manon Lescaut   \ntt0004306              [J.SearleDawley]        Marta of the Lowlands   \ntt0004307              [HobartBosworth]                  Martin Eden   \ntt0004314  [OscarApfel, CecilB.DeMille]              The Master Mind   \n\n                              genres  \\\ntconst                                 \ntt0000009                  [Romance]   \ntt0000335         [Biography, Drama]   \ntt0000502                       [\\N]   \ntt0000574  [Biography, Crime, Drama]   \ntt0000615                    [Drama]   \n...                              ...   \ntt0004302            [Comedy, Drama]   \ntt0004303           [Drama, Romance]   \ntt0004306                    [Drama]   \ntt0004307                    [Drama]   \ntt0004314             [Crime, Drama]   \n\n                                                    metadata  \ntconst                                                        \ntt0000009  Romance WilliamCourtenay ChaunceyDepew Blanche...  \ntt0000335  Biography Drama HaroldGraham Mr.Graham JohnJon...  \ntt0000502        \\N AntoniodelPozo ElMochuelo RicardodeBaños  \ntt0000574  Biography Crime Drama JohnTait NormanCampbell ...  \ntt0000615  Drama JimGerald GeorgeMerriman LanceVane Willi...  \n...                                                      ...  \ntt0004302  Comedy Drama FredMontague MaxFigman HarryFishe...  \ntt0004303  Drama Romance HenryWeaver LucienMuratore Willi...  \ntt0004306  Drama WellingtonA.Playter GeorgeMoss HalClaren...  \ntt0004307  Drama RayMyers HerbertRawlinson LawrencePeyton...  \ntt0004314  Crime Drama FredMontague HarryFisher EdmundBre...  \n\n[382 rows x 5 columns]",
      "text/html": "<div>\n<style scoped>\n    .dataframe tbody tr th:only-of-type {\n        vertical-align: middle;\n    }\n\n    .dataframe tbody tr th {\n        vertical-align: top;\n    }\n\n    .dataframe thead th {\n        text-align: right;\n    }\n</style>\n<table border=\"1\" class=\"dataframe\">\n  <thead>\n    <tr style=\"text-align: right;\">\n      <th></th>\n      <th>cast</th>\n      <th>crew</th>\n      <th>originalTitle</th>\n      <th>genres</th>\n      <th>metadata</th>\n    </tr>\n    <tr>\n      <th>tconst</th>\n      <th></th>\n      <th></th>\n      <th></th>\n      <th></th>\n      <th></th>\n    </tr>\n  </thead>\n  <tbody>\n    <tr>\n      <th>tt0000009</th>\n      <td>[WilliamCourtenay, ChaunceyDepew, BlancheBayliss]</td>\n      <td>[AlexanderBlack]</td>\n      <td>Miss Jerry</td>\n      <td>[Romance]</td>\n      <td>Romance WilliamCourtenay ChaunceyDepew Blanche...</td>\n    </tr>\n    <tr>\n      <th>tt0000335</th>\n      <td>[HaroldGraham, Mr.Graham, JohnJones]</td>\n      <td>[HerbertBooth, JosephPerry]</td>\n      <td>Soldiers of the Cross</td>\n      <td>[Biography, Drama]</td>\n      <td>Biography Drama HaroldGraham Mr.Graham JohnJon...</td>\n    </tr>\n    <tr>\n      <th>tt0000502</th>\n      <td>[AntoniodelPozo, ElMochuelo]</td>\n      <td>[RicardodeBaños]</td>\n      <td>Bohemios</td>\n      <td>[\\N]</td>\n      <td>\\N AntoniodelPozo ElMochuelo RicardodeBaños</td>\n    </tr>\n    <tr>\n      <th>tt0000574</th>\n      <td>[JohnTait, NormanCampbell, ElizabethTait]</td>\n      <td>[CharlesTait]</td>\n      <td>The Story of the Kelly Gang</td>\n      <td>[Biography, Crime, Drama]</td>\n      <td>Biography Crime Drama JohnTait NormanCampbell ...</td>\n    </tr>\n    <tr>\n      <th>tt0000615</th>\n      <td>[JimGerald, GeorgeMerriman, LanceVane]</td>\n      <td>[CharlesMacMahon]</td>\n      <td>Robbery Under Arms</td>\n      <td>[Drama]</td>\n      <td>Drama JimGerald GeorgeMerriman LanceVane Willi...</td>\n    </tr>\n    <tr>\n      <th>...</th>\n      <td>...</td>\n      <td>...</td>\n      <td>...</td>\n      <td>...</td>\n      <td>...</td>\n    </tr>\n    <tr>\n      <th>tt0004302</th>\n      <td>[FredMontague, MaxFigman, HarryFisher]</td>\n      <td>[OscarApfel, CecilB.DeMille]</td>\n      <td>The Man on the Box</td>\n      <td>[Comedy, Drama]</td>\n      <td>Comedy Drama FredMontague MaxFigman HarryFishe...</td>\n    </tr>\n    <tr>\n      <th>tt0004303</th>\n      <td>[HenryWeaver, LucienMuratore, WilliamL.Abingdon]</td>\n      <td>[HerbertHallWinslow]</td>\n      <td>Manon Lescaut</td>\n      <td>[Drama, Romance]</td>\n      <td>Drama Romance HenryWeaver LucienMuratore Willi...</td>\n    </tr>\n    <tr>\n      <th>tt0004306</th>\n      <td>[WellingtonA.Playter, GeorgeMoss, HalClarendon]</td>\n      <td>[J.SearleDawley]</td>\n      <td>Marta of the Lowlands</td>\n      <td>[Drama]</td>\n      <td>Drama WellingtonA.Playter GeorgeMoss HalClaren...</td>\n    </tr>\n    <tr>\n      <th>tt0004307</th>\n      <td>[RayMyers, HerbertRawlinson, LawrencePeyton]</td>\n      <td>[HobartBosworth]</td>\n      <td>Martin Eden</td>\n      <td>[Drama]</td>\n      <td>Drama RayMyers HerbertRawlinson LawrencePeyton...</td>\n    </tr>\n    <tr>\n      <th>tt0004314</th>\n      <td>[FredMontague, HarryFisher, EdmundBreese]</td>\n      <td>[OscarApfel, CecilB.DeMille]</td>\n      <td>The Master Mind</td>\n      <td>[Crime, Drama]</td>\n      <td>Crime Drama FredMontague HarryFisher EdmundBre...</td>\n    </tr>\n  </tbody>\n</table>\n<p>382 rows × 5 columns</p>\n</div>"
     },
     "metadata": {},
     "execution_count": 51
    }
   ],
   "source": [
    "def get_list(x):\n",
    "    if isinstance(x, list):\n",
    "        names = [i for i in x]\n",
    "        # Check if more than 3 elements exist. If yes, return only first three. If no, return entire list.\n",
    "        if len(names) > 3:\n",
    "            names = names[:3]\n",
    "        return names\n",
    "\n",
    "    # Return empty list in case of missing/malformed data\n",
    "    return []\n",
    "\n",
    "df_imdb = df_cast_crew.merge(df_movies, on='tconst')\n",
    "# Remove space\n",
    "df_imdb['cast'] = df_imdb['cast'].apply(lambda x: str(x).replace(' ', ''))\n",
    "df_imdb['crew'] = df_imdb['crew'].apply(lambda x: str(x).replace(' ', ''))\n",
    "df_imdb['cast'] = df_imdb['cast'].apply(lambda x: x.split(','))\n",
    "df_imdb['crew'] = df_imdb['crew'].apply(lambda x: x.split(','))\n",
    "df_imdb['metadata'] = df_imdb.apply(lambda x : ' '.join(x['genres']) + ' ' + ' '.join(x['cast']) + ' ' + ' '.join(x['crew']), axis = 1)\n",
    "df_imdb['cast'] = df_imdb['cast'].apply(get_list)\n",
    "df_imdb"
   ]
  },
  {
   "cell_type": "code",
   "execution_count": 58,
   "metadata": {},
   "outputs": [],
   "source": [
    "count_vec = CountVectorizer()\n",
    "count_vec_matrix = count_vec.fit_transform(df_imdb['metadata'])\n",
    "cosine_sim_matrix = cosine_similarity(count_vec_matrix, count_vec_matrix)\n",
    "df_imdb = df_imdb.reset_index()\n",
    "mapping = pd.Series(df_imdb.index, index = df_imdb['originalTitle'])"
   ]
  },
  {
   "cell_type": "code",
   "execution_count": 65,
   "metadata": {},
   "outputs": [],
   "source": [
    "#recommender function to recommend movies based on metadata\n",
    "def recommend_movies_based_on_metadata(movie_input):\n",
    "    movie_index = mapping[movie_input]\n",
    "    #get similarity values with other movies\n",
    "    similarity_score = list(enumerate(cosine_sim_matrix[movie_index]))\n",
    "    similarity_score = sorted(similarity_score, key=lambda x: x[1], reverse=True)\n",
    "    # Get the scores of the 15 most similar movies. Ignore the first movie.\n",
    "    similarity_score = similarity_score[1:15]\n",
    "    movie_indices = [i[0] for i in similarity_score]\n",
    "    return (df_imdb['originalTitle'].iloc[movie_indices])"
   ]
  },
  {
   "cell_type": "code",
   "execution_count": 66,
   "metadata": {},
   "outputs": [
    {
     "output_type": "execute_result",
     "data": {
      "text/plain": "41     Les misérables - Époque 1: Jean Valjean\n155         Les misérables - Époque 2: Fantine\n5                                       Amleto\n8                                Andreas Hofer\n288                         A Factory Magdalen\n317                                     Amleto\n6              Don Álvaro o la fuerza del sino\n10                                      Hamlet\n15                                      Amleto\n48                                      Anfisa\n101                Buried Alive in a Coal Mine\n140             Kleiner Svend und seine Mutter\n148                       The Lure of New York\n160             One Hundred Years of Mormonism\nName: originalTitle, dtype: object"
     },
     "metadata": {},
     "execution_count": 66
    }
   ],
   "source": [
    "recommend_movies_based_on_metadata('Germinal')"
   ]
  }
 ]
}