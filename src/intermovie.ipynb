{
 "metadata": {
  "language_info": {
   "codemirror_mode": {
    "name": "ipython",
    "version": 3
   },
   "file_extension": ".py",
   "mimetype": "text/x-python",
   "name": "python",
   "nbconvert_exporter": "python",
   "pygments_lexer": "ipython3",
   "version": "3.7.9-final"
  },
  "orig_nbformat": 2,
  "kernelspec": {
   "name": "python_defaultSpec_1600762230502",
   "display_name": "Python 3.7.9 64-bit ('intermovie': conda)"
  }
 },
 "nbformat": 4,
 "nbformat_minor": 2,
 "cells": [
  {
   "source": [
    "# Intermovie\n",
    "* La liste des acteurs par film\n",
    "* La liste des films Américains (en gardant leur nom en français) et leur note moyenne\n",
    "* Les notes moyennes des différents genres\n",
    "* La note moyenne de chaque acteur par rapport aux films dans lesquels il apparaît\n",
    "Imports and useful functions"
   ],
   "cell_type": "markdown",
   "metadata": {}
  },
  {
   "source": [
    "## Imports and useful functions"
   ],
   "cell_type": "markdown",
   "metadata": {}
  },
  {
   "source": [
    "import pandas as pd\n",
    "import random\n",
    "\n",
    "#TODO filter column csv\n",
    "#TODO idempotence\n",
    "\n",
    "def skip_idx(file):\n",
    "    \"\"\"Function to sample a csv file.\"\"\"\n",
    "    # Count the lines\n",
    "    num_lines = sum(1 for l in open(file, encoding='utf-8'))\n",
    "    print(\"File size\", num_lines)\n",
    "\n",
    "    # Sample size - in this case ~10%\n",
    "    size = int(num_lines / 10)\n",
    "\n",
    "    # The row indices to skip - make sure 0 is not included to keep the header!\n",
    "    random.seed(30)\n",
    "    skip_idx = random.sample(range(1, num_lines), num_lines - size)\n",
    "\n",
    "    return skip_idx"
   ],
   "cell_type": "code",
   "metadata": {},
   "execution_count": 7,
   "outputs": []
  },
  {
   "source": [
    "## La liste des acteurs par film"
   ],
   "cell_type": "markdown",
   "metadata": {}
  },
  {
   "source": [
    "## La liste des films Américains (en gardant leur nom en français) et leur note moyenne"
   ],
   "cell_type": "markdown",
   "metadata": {}
  },
  {
   "source": [
    "### Films"
   ],
   "cell_type": "markdown",
   "metadata": {}
  },
  {
   "cell_type": "code",
   "execution_count": null,
   "metadata": {},
   "outputs": [],
   "source": [
    "df_title_basics = pd.read_csv('../data/title.basics.tsv', sep='\\t', skiprows=skip_idx('../data/title.basics.tsv'), usecols=['tconst', 'titleType', 'originalTitle', 'genres'])"
   ]
  },
  {
   "cell_type": "code",
   "execution_count": 80,
   "metadata": {},
   "outputs": [
    {
     "output_type": "execute_result",
     "data": {
      "text/plain": "           tconst  titleType  \\\n0       tt0000006      short   \n1       tt0000013      short   \n2       tt0000016      short   \n3       tt0000022      short   \n4       tt0000027      short   \n...           ...        ...   \n632124  tt9916758  tvEpisode   \n632125  tt9916766  tvEpisode   \n632126  tt9916798  tvEpisode   \n632127  tt9916810  tvEpisode   \n632128  tt9916822  tvEpisode   \n\n                                            originalTitle  \\\n0                                       Chinese Opium Den   \n1       Neuville-sur-Saône: Débarquement du congrès de...   \n2                                  Barque sortant du port   \n3                                           Les forgerons   \n4                             Place des Cordeliers à Lyon   \n...                                                   ...   \n632124                                     Willy Naessens   \n632125                                     Episode #10.15   \n632126                                      Episode #2.36   \n632127                       Danira Boukhriss Terkessidis   \n632128                                       Episode #3.8   \n\n                       genres  \n0                       Short  \n1           Documentary,Short  \n2           Documentary,Short  \n3           Documentary,Short  \n4           Documentary,Short  \n...                       ...  \n632124  Comedy,News,Talk-Show  \n632125      Family,Reality-TV  \n632126    Action,Drama,Family  \n632127  Comedy,News,Talk-Show  \n632128    Action,Drama,Family  \n\n[632129 rows x 4 columns]",
      "text/html": "<div>\n<style scoped>\n    .dataframe tbody tr th:only-of-type {\n        vertical-align: middle;\n    }\n\n    .dataframe tbody tr th {\n        vertical-align: top;\n    }\n\n    .dataframe thead th {\n        text-align: right;\n    }\n</style>\n<table border=\"1\" class=\"dataframe\">\n  <thead>\n    <tr style=\"text-align: right;\">\n      <th></th>\n      <th>tconst</th>\n      <th>titleType</th>\n      <th>originalTitle</th>\n      <th>genres</th>\n    </tr>\n  </thead>\n  <tbody>\n    <tr>\n      <th>0</th>\n      <td>tt0000006</td>\n      <td>short</td>\n      <td>Chinese Opium Den</td>\n      <td>Short</td>\n    </tr>\n    <tr>\n      <th>1</th>\n      <td>tt0000013</td>\n      <td>short</td>\n      <td>Neuville-sur-Saône: Débarquement du congrès de...</td>\n      <td>Documentary,Short</td>\n    </tr>\n    <tr>\n      <th>2</th>\n      <td>tt0000016</td>\n      <td>short</td>\n      <td>Barque sortant du port</td>\n      <td>Documentary,Short</td>\n    </tr>\n    <tr>\n      <th>3</th>\n      <td>tt0000022</td>\n      <td>short</td>\n      <td>Les forgerons</td>\n      <td>Documentary,Short</td>\n    </tr>\n    <tr>\n      <th>4</th>\n      <td>tt0000027</td>\n      <td>short</td>\n      <td>Place des Cordeliers à Lyon</td>\n      <td>Documentary,Short</td>\n    </tr>\n    <tr>\n      <th>...</th>\n      <td>...</td>\n      <td>...</td>\n      <td>...</td>\n      <td>...</td>\n    </tr>\n    <tr>\n      <th>632124</th>\n      <td>tt9916758</td>\n      <td>tvEpisode</td>\n      <td>Willy Naessens</td>\n      <td>Comedy,News,Talk-Show</td>\n    </tr>\n    <tr>\n      <th>632125</th>\n      <td>tt9916766</td>\n      <td>tvEpisode</td>\n      <td>Episode #10.15</td>\n      <td>Family,Reality-TV</td>\n    </tr>\n    <tr>\n      <th>632126</th>\n      <td>tt9916798</td>\n      <td>tvEpisode</td>\n      <td>Episode #2.36</td>\n      <td>Action,Drama,Family</td>\n    </tr>\n    <tr>\n      <th>632127</th>\n      <td>tt9916810</td>\n      <td>tvEpisode</td>\n      <td>Danira Boukhriss Terkessidis</td>\n      <td>Comedy,News,Talk-Show</td>\n    </tr>\n    <tr>\n      <th>632128</th>\n      <td>tt9916822</td>\n      <td>tvEpisode</td>\n      <td>Episode #3.8</td>\n      <td>Action,Drama,Family</td>\n    </tr>\n  </tbody>\n</table>\n<p>632129 rows × 4 columns</p>\n</div>"
     },
     "metadata": {},
     "execution_count": 80
    }
   ],
   "source": [
    "df_title_basics"
   ]
  },
  {
   "cell_type": "code",
   "execution_count": 64,
   "metadata": {},
   "outputs": [
    {
     "output_type": "execute_result",
     "data": {
      "text/plain": "array(['short', 'movie', 'tvSeries', 'tvMovie', 'tvEpisode', 'tvShort',\n       'tvMiniSeries', 'video', 'tvSpecial', 'videoGame'], dtype=object)"
     },
     "metadata": {},
     "execution_count": 64
    }
   ],
   "source": [
    "df_title_basics['titleType'].unique()"
   ]
  },
  {
   "cell_type": "code",
   "execution_count": 68,
   "metadata": {},
   "outputs": [
    {
     "output_type": "execute_result",
     "data": {
      "text/plain": "        tconst titleType           originalTitle genres\n78   tt0000886     movie                  Hamlet  Drama\n83   tt0000941     movie          Locura de amor  Drama\n88   tt0000984     movie     Niños en la alameda     \\N\n95   tt0001080     movie         Two of the Boys     \\N\n102  tt0001159     movie  The Connecticut Yankee     \\N",
      "text/html": "<div>\n<style scoped>\n    .dataframe tbody tr th:only-of-type {\n        vertical-align: middle;\n    }\n\n    .dataframe tbody tr th {\n        vertical-align: top;\n    }\n\n    .dataframe thead th {\n        text-align: right;\n    }\n</style>\n<table border=\"1\" class=\"dataframe\">\n  <thead>\n    <tr style=\"text-align: right;\">\n      <th></th>\n      <th>tconst</th>\n      <th>titleType</th>\n      <th>originalTitle</th>\n      <th>genres</th>\n    </tr>\n  </thead>\n  <tbody>\n    <tr>\n      <th>78</th>\n      <td>tt0000886</td>\n      <td>movie</td>\n      <td>Hamlet</td>\n      <td>Drama</td>\n    </tr>\n    <tr>\n      <th>83</th>\n      <td>tt0000941</td>\n      <td>movie</td>\n      <td>Locura de amor</td>\n      <td>Drama</td>\n    </tr>\n    <tr>\n      <th>88</th>\n      <td>tt0000984</td>\n      <td>movie</td>\n      <td>Niños en la alameda</td>\n      <td>\\N</td>\n    </tr>\n    <tr>\n      <th>95</th>\n      <td>tt0001080</td>\n      <td>movie</td>\n      <td>Two of the Boys</td>\n      <td>\\N</td>\n    </tr>\n    <tr>\n      <th>102</th>\n      <td>tt0001159</td>\n      <td>movie</td>\n      <td>The Connecticut Yankee</td>\n      <td>\\N</td>\n    </tr>\n  </tbody>\n</table>\n</div>"
     },
     "metadata": {},
     "execution_count": 68
    }
   ],
   "source": [
    "df_movies = df_title_basics[(df_title_basics['titleType'] == 'movie') | (df_title_basics['titleType'] == 'tvMovie')]\n",
    "df_movies.head()"
   ]
  },
  {
   "source": [
    "### Titres Américains"
   ],
   "cell_type": "markdown",
   "metadata": {}
  },
  {
   "cell_type": "code",
   "execution_count": 8,
   "metadata": {
    "tags": []
   },
   "outputs": [
    {
     "output_type": "stream",
     "name": "stdout",
     "text": "File size 19527972\n"
    }
   ],
   "source": [
    "df_title_akas = pd.read_csv('../data/title.akas.tsv', sep='\\t', skiprows=skip_idx('../data/title.akas.tsv'), usecols=['titleId', 'title', 'region'])"
   ]
  },
  {
   "cell_type": "code",
   "execution_count": 9,
   "metadata": {},
   "outputs": [
    {
     "output_type": "execute_result",
     "data": {
      "text/plain": "     titleId                   title region\n0  tt0000001              Carmencita     \\N\n1  tt0000003         Szegény Pierrot     HU\n2  tt0000003            Poor Pierrot     GB\n3  tt0000004      Полная кружка пива     RU\n4  tt0000005  The Blacksmith's Forge     GB",
      "text/html": "<div>\n<style scoped>\n    .dataframe tbody tr th:only-of-type {\n        vertical-align: middle;\n    }\n\n    .dataframe tbody tr th {\n        vertical-align: top;\n    }\n\n    .dataframe thead th {\n        text-align: right;\n    }\n</style>\n<table border=\"1\" class=\"dataframe\">\n  <thead>\n    <tr style=\"text-align: right;\">\n      <th></th>\n      <th>titleId</th>\n      <th>title</th>\n      <th>region</th>\n    </tr>\n  </thead>\n  <tbody>\n    <tr>\n      <th>0</th>\n      <td>tt0000001</td>\n      <td>Carmencita</td>\n      <td>\\N</td>\n    </tr>\n    <tr>\n      <th>1</th>\n      <td>tt0000003</td>\n      <td>Szegény Pierrot</td>\n      <td>HU</td>\n    </tr>\n    <tr>\n      <th>2</th>\n      <td>tt0000003</td>\n      <td>Poor Pierrot</td>\n      <td>GB</td>\n    </tr>\n    <tr>\n      <th>3</th>\n      <td>tt0000004</td>\n      <td>Полная кружка пива</td>\n      <td>RU</td>\n    </tr>\n    <tr>\n      <th>4</th>\n      <td>tt0000005</td>\n      <td>The Blacksmith's Forge</td>\n      <td>GB</td>\n    </tr>\n  </tbody>\n</table>\n</div>"
     },
     "metadata": {},
     "execution_count": 9
    }
   ],
   "source": [
    "df_title_akas.head()"
   ]
  },
  {
   "cell_type": "code",
   "execution_count": 10,
   "metadata": {},
   "outputs": [
    {
     "output_type": "execute_result",
     "data": {
      "text/plain": "      titleId                          title region\n5   tt0000009                     Miss Jerry     US\n18  tt0000026  The Messers. Lumière at Cards     US\n20  tt0000029                  Baby's Dinner     US\n28  tt0000045                The Washerwomen     US\n34  tt0000076              Rip and the Dwarf     US",
      "text/html": "<div>\n<style scoped>\n    .dataframe tbody tr th:only-of-type {\n        vertical-align: middle;\n    }\n\n    .dataframe tbody tr th {\n        vertical-align: top;\n    }\n\n    .dataframe thead th {\n        text-align: right;\n    }\n</style>\n<table border=\"1\" class=\"dataframe\">\n  <thead>\n    <tr style=\"text-align: right;\">\n      <th></th>\n      <th>titleId</th>\n      <th>title</th>\n      <th>region</th>\n    </tr>\n  </thead>\n  <tbody>\n    <tr>\n      <th>5</th>\n      <td>tt0000009</td>\n      <td>Miss Jerry</td>\n      <td>US</td>\n    </tr>\n    <tr>\n      <th>18</th>\n      <td>tt0000026</td>\n      <td>The Messers. Lumière at Cards</td>\n      <td>US</td>\n    </tr>\n    <tr>\n      <th>20</th>\n      <td>tt0000029</td>\n      <td>Baby's Dinner</td>\n      <td>US</td>\n    </tr>\n    <tr>\n      <th>28</th>\n      <td>tt0000045</td>\n      <td>The Washerwomen</td>\n      <td>US</td>\n    </tr>\n    <tr>\n      <th>34</th>\n      <td>tt0000076</td>\n      <td>Rip and the Dwarf</td>\n      <td>US</td>\n    </tr>\n  </tbody>\n</table>\n</div>"
     },
     "metadata": {},
     "execution_count": 10
    }
   ],
   "source": [
    "df_us = df_title_akas[df_title_akas['region'] == 'US']\n",
    "df_us.head()"
   ]
  },
  {
   "cell_type": "code",
   "execution_count": 40,
   "metadata": {
    "tags": []
   },
   "outputs": [
    {
     "output_type": "stream",
     "name": "stdout",
     "text": "File size 993154\n"
    }
   ],
   "source": [
    "df_title_ratings = pd.read_csv('../data/title.ratings.tsv', sep='\\t', skiprows=skip_idx('../data/title.ratings.tsv'), usecols=['tconst', 'averageRating'])"
   ]
  },
  {
   "cell_type": "code",
   "execution_count": 78,
   "metadata": {
    "tags": []
   },
   "outputs": [
    {
     "output_type": "execute_result",
     "data": {
      "text/plain": "        tconst titleType                             originalTitle  \\\n0    tt0000886     movie                                    Hamlet   \n1    tt0014417     movie                                   La roue   \n2    tt0015191     movie                                   On Time   \n3    tt0020466     movie                              Sunnyside Up   \n4    tt0020649     movie                           The Arizona Kid   \n..         ...       ...                                       ...   \n124  tt7389882     movie                                  The Area   \n125  tt7573720     movie                                     Karma   \n126  tt7583568     movie                                La Negrada   \n127  tt8106596     movie              The Legend of Cocaine Island   \n128  tt9033634   tvMovie  Christmas in Evergreen: Letters to Santa   \n\n                      genres    titleId  \\\n0                      Drama  tt0000886   \n1                      Drama  tt0014417   \n2    Action,Adventure,Comedy  tt0015191   \n3             Comedy,Musical  tt0020466   \n4    Mystery,Romance,Western  tt0020649   \n..                       ...        ...   \n124              Documentary  tt7389882   \n125                 Thriller  tt7573720   \n126                    Drama  tt7583568   \n127              Documentary  tt8106596   \n128    Drama,Fantasy,Romance  tt9033634   \n\n                                        title region  averageRating  \n0                   Hamlet, Prince of Denmark     US            5.2  \n1                                   The Wheel     US            7.4  \n2                                    On Time!     US            4.7  \n3                                Sunnyside Up     US            6.5  \n4                             The Arizona Kid     US            5.8  \n..                                        ...    ...            ...  \n124                                  The Area     US            6.8  \n125                                     Karma     US            7.8  \n126                            Black Mexicans     US            6.6  \n127              The Legend of Cocaine Island     US            6.3  \n128  Christmas in Evergreen: Letters to Santa     US            6.8  \n\n[129 rows x 8 columns]",
      "text/html": "<div>\n<style scoped>\n    .dataframe tbody tr th:only-of-type {\n        vertical-align: middle;\n    }\n\n    .dataframe tbody tr th {\n        vertical-align: top;\n    }\n\n    .dataframe thead th {\n        text-align: right;\n    }\n</style>\n<table border=\"1\" class=\"dataframe\">\n  <thead>\n    <tr style=\"text-align: right;\">\n      <th></th>\n      <th>tconst</th>\n      <th>titleType</th>\n      <th>originalTitle</th>\n      <th>genres</th>\n      <th>titleId</th>\n      <th>title</th>\n      <th>region</th>\n      <th>averageRating</th>\n    </tr>\n  </thead>\n  <tbody>\n    <tr>\n      <th>0</th>\n      <td>tt0000886</td>\n      <td>movie</td>\n      <td>Hamlet</td>\n      <td>Drama</td>\n      <td>tt0000886</td>\n      <td>Hamlet, Prince of Denmark</td>\n      <td>US</td>\n      <td>5.2</td>\n    </tr>\n    <tr>\n      <th>1</th>\n      <td>tt0014417</td>\n      <td>movie</td>\n      <td>La roue</td>\n      <td>Drama</td>\n      <td>tt0014417</td>\n      <td>The Wheel</td>\n      <td>US</td>\n      <td>7.4</td>\n    </tr>\n    <tr>\n      <th>2</th>\n      <td>tt0015191</td>\n      <td>movie</td>\n      <td>On Time</td>\n      <td>Action,Adventure,Comedy</td>\n      <td>tt0015191</td>\n      <td>On Time!</td>\n      <td>US</td>\n      <td>4.7</td>\n    </tr>\n    <tr>\n      <th>3</th>\n      <td>tt0020466</td>\n      <td>movie</td>\n      <td>Sunnyside Up</td>\n      <td>Comedy,Musical</td>\n      <td>tt0020466</td>\n      <td>Sunnyside Up</td>\n      <td>US</td>\n      <td>6.5</td>\n    </tr>\n    <tr>\n      <th>4</th>\n      <td>tt0020649</td>\n      <td>movie</td>\n      <td>The Arizona Kid</td>\n      <td>Mystery,Romance,Western</td>\n      <td>tt0020649</td>\n      <td>The Arizona Kid</td>\n      <td>US</td>\n      <td>5.8</td>\n    </tr>\n    <tr>\n      <th>...</th>\n      <td>...</td>\n      <td>...</td>\n      <td>...</td>\n      <td>...</td>\n      <td>...</td>\n      <td>...</td>\n      <td>...</td>\n      <td>...</td>\n    </tr>\n    <tr>\n      <th>124</th>\n      <td>tt7389882</td>\n      <td>movie</td>\n      <td>The Area</td>\n      <td>Documentary</td>\n      <td>tt7389882</td>\n      <td>The Area</td>\n      <td>US</td>\n      <td>6.8</td>\n    </tr>\n    <tr>\n      <th>125</th>\n      <td>tt7573720</td>\n      <td>movie</td>\n      <td>Karma</td>\n      <td>Thriller</td>\n      <td>tt7573720</td>\n      <td>Karma</td>\n      <td>US</td>\n      <td>7.8</td>\n    </tr>\n    <tr>\n      <th>126</th>\n      <td>tt7583568</td>\n      <td>movie</td>\n      <td>La Negrada</td>\n      <td>Drama</td>\n      <td>tt7583568</td>\n      <td>Black Mexicans</td>\n      <td>US</td>\n      <td>6.6</td>\n    </tr>\n    <tr>\n      <th>127</th>\n      <td>tt8106596</td>\n      <td>movie</td>\n      <td>The Legend of Cocaine Island</td>\n      <td>Documentary</td>\n      <td>tt8106596</td>\n      <td>The Legend of Cocaine Island</td>\n      <td>US</td>\n      <td>6.3</td>\n    </tr>\n    <tr>\n      <th>128</th>\n      <td>tt9033634</td>\n      <td>tvMovie</td>\n      <td>Christmas in Evergreen: Letters to Santa</td>\n      <td>Drama,Fantasy,Romance</td>\n      <td>tt9033634</td>\n      <td>Christmas in Evergreen: Letters to Santa</td>\n      <td>US</td>\n      <td>6.8</td>\n    </tr>\n  </tbody>\n</table>\n<p>129 rows × 8 columns</p>\n</div>"
     },
     "metadata": {},
     "execution_count": 78
    }
   ],
   "source": [
    "df_movies_us_ratings = df_movies.merge(df_us, left_on='tconst', right_on='titleId').merge(df_title_ratings)\n",
    "df_movies_us_ratings.to_csv('movies_us_ratings.csv', index=False)\n",
    "df_movies_us_ratings"
   ]
  },
  {
   "source": [
    "## Les notes moyennes des différents genres\n"
   ],
   "cell_type": "markdown",
   "metadata": {}
  },
  {
   "cell_type": "code",
   "execution_count": 79,
   "metadata": {},
   "outputs": [
    {
     "output_type": "execute_result",
     "data": {
      "text/plain": "         tconst  titleType                           originalTitle  \\\n0     tt0000027      short             Place des Cordeliers à Lyon   \n1     tt0000082      short                             A Hard Wash   \n2     tt0000361      short                        Lavatory moderne   \n3     tt0000399      short                  Jack and the Beanstalk   \n4     tt0000800      short                           The Awakening   \n...         ...        ...                                     ...   \n9952  tt9878308  tvEpisode                  Adam Ruins Little Bugs   \n9953  tt9878754  tvEpisode                       Hotel Hanky Panky   \n9954  tt9898410  tvEpisode                            Episode #1.7   \n9955  tt9913610  tvEpisode  A Fish is to Water as a Genius is to X   \n9956  tt9916578  tvEpisode               The Trial of Joan Collins   \n\n                           genres  averageRating  \n0                         [Drama]            5.5  \n1                         [Drama]            4.9  \n2     [Action, Adventure, Comedy]            8.1  \n3               [Comedy, Musical]            6.1  \n4     [Mystery, Romance, Western]            5.3  \n...                           ...            ...  \n9952                          NaN            7.1  \n9953                          NaN            8.5  \n9954                          NaN            9.2  \n9955                          NaN            7.1  \n9956                          NaN            9.1  \n\n[9957 rows x 5 columns]",
      "text/html": "<div>\n<style scoped>\n    .dataframe tbody tr th:only-of-type {\n        vertical-align: middle;\n    }\n\n    .dataframe tbody tr th {\n        vertical-align: top;\n    }\n\n    .dataframe thead th {\n        text-align: right;\n    }\n</style>\n<table border=\"1\" class=\"dataframe\">\n  <thead>\n    <tr style=\"text-align: right;\">\n      <th></th>\n      <th>tconst</th>\n      <th>titleType</th>\n      <th>originalTitle</th>\n      <th>genres</th>\n      <th>averageRating</th>\n    </tr>\n  </thead>\n  <tbody>\n    <tr>\n      <th>0</th>\n      <td>tt0000027</td>\n      <td>short</td>\n      <td>Place des Cordeliers à Lyon</td>\n      <td>[Drama]</td>\n      <td>5.5</td>\n    </tr>\n    <tr>\n      <th>1</th>\n      <td>tt0000082</td>\n      <td>short</td>\n      <td>A Hard Wash</td>\n      <td>[Drama]</td>\n      <td>4.9</td>\n    </tr>\n    <tr>\n      <th>2</th>\n      <td>tt0000361</td>\n      <td>short</td>\n      <td>Lavatory moderne</td>\n      <td>[Action, Adventure, Comedy]</td>\n      <td>8.1</td>\n    </tr>\n    <tr>\n      <th>3</th>\n      <td>tt0000399</td>\n      <td>short</td>\n      <td>Jack and the Beanstalk</td>\n      <td>[Comedy, Musical]</td>\n      <td>6.1</td>\n    </tr>\n    <tr>\n      <th>4</th>\n      <td>tt0000800</td>\n      <td>short</td>\n      <td>The Awakening</td>\n      <td>[Mystery, Romance, Western]</td>\n      <td>5.3</td>\n    </tr>\n    <tr>\n      <th>...</th>\n      <td>...</td>\n      <td>...</td>\n      <td>...</td>\n      <td>...</td>\n      <td>...</td>\n    </tr>\n    <tr>\n      <th>9952</th>\n      <td>tt9878308</td>\n      <td>tvEpisode</td>\n      <td>Adam Ruins Little Bugs</td>\n      <td>NaN</td>\n      <td>7.1</td>\n    </tr>\n    <tr>\n      <th>9953</th>\n      <td>tt9878754</td>\n      <td>tvEpisode</td>\n      <td>Hotel Hanky Panky</td>\n      <td>NaN</td>\n      <td>8.5</td>\n    </tr>\n    <tr>\n      <th>9954</th>\n      <td>tt9898410</td>\n      <td>tvEpisode</td>\n      <td>Episode #1.7</td>\n      <td>NaN</td>\n      <td>9.2</td>\n    </tr>\n    <tr>\n      <th>9955</th>\n      <td>tt9913610</td>\n      <td>tvEpisode</td>\n      <td>A Fish is to Water as a Genius is to X</td>\n      <td>NaN</td>\n      <td>7.1</td>\n    </tr>\n    <tr>\n      <th>9956</th>\n      <td>tt9916578</td>\n      <td>tvEpisode</td>\n      <td>The Trial of Joan Collins</td>\n      <td>NaN</td>\n      <td>9.1</td>\n    </tr>\n  </tbody>\n</table>\n<p>9957 rows × 5 columns</p>\n</div>"
     },
     "metadata": {},
     "execution_count": 79
    }
   ],
   "source": [
    "df_genre_ratings = df_title_basics.merge(df_title_ratings)\n",
    "df_genre_ratings['genres'] = df_genre_ratings['genres'].apply(lambda x: x.split(','))\n",
    "df_genre_ratings"
   ]
  },
  {
   "cell_type": "code",
   "execution_count": 58,
   "metadata": {
    "tags": []
   },
   "outputs": [
    {
     "output_type": "execute_result",
     "data": {
      "text/plain": "             averageRating\ngenres                    \nAction            6.290625\nAdult             6.271429\nAdventure         6.370588\nAnimation         6.243750\nBiography         6.270000\nComedy            6.276923\nCrime             6.196154\nDocumentary       6.156818\nDrama             6.377273\nFamily            6.117391\nFantasy           6.317647\nFilm-Noir         6.500000\nHistory           6.030000\nHorror            6.364706\nMusic             6.105000\nMusical           6.142857\nMystery           6.221053\nReality-TV        5.850000\nRomance           6.381081\nSci-Fi            6.150000\nShort             6.197590\nSport             6.683333\nTalk-Show         5.666667\nThriller          5.737500\nWar               5.880000\nWestern           5.481818\n\\N                6.471429",
      "text/html": "<div>\n<style scoped>\n    .dataframe tbody tr th:only-of-type {\n        vertical-align: middle;\n    }\n\n    .dataframe tbody tr th {\n        vertical-align: top;\n    }\n\n    .dataframe thead th {\n        text-align: right;\n    }\n</style>\n<table border=\"1\" class=\"dataframe\">\n  <thead>\n    <tr style=\"text-align: right;\">\n      <th></th>\n      <th>averageRating</th>\n    </tr>\n    <tr>\n      <th>genres</th>\n      <th></th>\n    </tr>\n  </thead>\n  <tbody>\n    <tr>\n      <th>Action</th>\n      <td>6.290625</td>\n    </tr>\n    <tr>\n      <th>Adult</th>\n      <td>6.271429</td>\n    </tr>\n    <tr>\n      <th>Adventure</th>\n      <td>6.370588</td>\n    </tr>\n    <tr>\n      <th>Animation</th>\n      <td>6.243750</td>\n    </tr>\n    <tr>\n      <th>Biography</th>\n      <td>6.270000</td>\n    </tr>\n    <tr>\n      <th>Comedy</th>\n      <td>6.276923</td>\n    </tr>\n    <tr>\n      <th>Crime</th>\n      <td>6.196154</td>\n    </tr>\n    <tr>\n      <th>Documentary</th>\n      <td>6.156818</td>\n    </tr>\n    <tr>\n      <th>Drama</th>\n      <td>6.377273</td>\n    </tr>\n    <tr>\n      <th>Family</th>\n      <td>6.117391</td>\n    </tr>\n    <tr>\n      <th>Fantasy</th>\n      <td>6.317647</td>\n    </tr>\n    <tr>\n      <th>Film-Noir</th>\n      <td>6.500000</td>\n    </tr>\n    <tr>\n      <th>History</th>\n      <td>6.030000</td>\n    </tr>\n    <tr>\n      <th>Horror</th>\n      <td>6.364706</td>\n    </tr>\n    <tr>\n      <th>Music</th>\n      <td>6.105000</td>\n    </tr>\n    <tr>\n      <th>Musical</th>\n      <td>6.142857</td>\n    </tr>\n    <tr>\n      <th>Mystery</th>\n      <td>6.221053</td>\n    </tr>\n    <tr>\n      <th>Reality-TV</th>\n      <td>5.850000</td>\n    </tr>\n    <tr>\n      <th>Romance</th>\n      <td>6.381081</td>\n    </tr>\n    <tr>\n      <th>Sci-Fi</th>\n      <td>6.150000</td>\n    </tr>\n    <tr>\n      <th>Short</th>\n      <td>6.197590</td>\n    </tr>\n    <tr>\n      <th>Sport</th>\n      <td>6.683333</td>\n    </tr>\n    <tr>\n      <th>Talk-Show</th>\n      <td>5.666667</td>\n    </tr>\n    <tr>\n      <th>Thriller</th>\n      <td>5.737500</td>\n    </tr>\n    <tr>\n      <th>War</th>\n      <td>5.880000</td>\n    </tr>\n    <tr>\n      <th>Western</th>\n      <td>5.481818</td>\n    </tr>\n    <tr>\n      <th>\\N</th>\n      <td>6.471429</td>\n    </tr>\n  </tbody>\n</table>\n</div>"
     },
     "metadata": {},
     "execution_count": 58
    }
   ],
   "source": [
    "df_genre_ratings_explode = df_genre_ratings.explode('genres').groupby('genres').mean()\n",
    "df_genre_ratings_explode"
   ]
  },
  {
   "source": [
    "## Bonus\n",
    "Elle souhaiterait pouvoir générer des recommandations de nouveaux films en fonction de l'historique de l'utilisateur."
   ],
   "cell_type": "markdown",
   "metadata": {}
  },
  {
   "cell_type": "code",
   "execution_count": null,
   "metadata": {},
   "outputs": [],
   "source": []
  }
 ]
}