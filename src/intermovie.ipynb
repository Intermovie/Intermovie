{
 "metadata": {
  "language_info": {
   "codemirror_mode": {
    "name": "ipython",
    "version": 3
   },
   "file_extension": ".py",
   "mimetype": "text/x-python",
   "name": "python",
   "nbconvert_exporter": "python",
   "pygments_lexer": "ipython3",
   "version": "3.7.9-final"
  },
  "orig_nbformat": 2,
  "kernelspec": {
   "name": "python_defaultSpec_1600762230502",
   "display_name": "Python 3.7.9 64-bit ('intermovie': conda)"
  }
 },
 "nbformat": 4,
 "nbformat_minor": 2,
 "cells": [
  {
   "source": [
    "# Intermovie\n",
    "* La liste des acteurs par film\n",
    "* La liste des films Américains (en gardant leur nom en français) et leur note moyenne\n",
    "* Les notes moyennes des différents genres\n",
    "* La note moyenne de chaque acteur par rapport aux films dans lesquels il apparaît\n",
    "Imports and useful functions"
   ],
   "cell_type": "markdown",
   "metadata": {}
  },
  {
   "source": [
    "## Imports and useful functions"
   ],
   "cell_type": "markdown",
   "metadata": {}
  },
  {
   "source": [
    "import pandas as pd\n",
    "import random\n",
    "\n",
    "#TODO filter column csv\n",
    "#TODO idempotence\n",
    "\n",
    "def skip_idx(file):\n",
    "    \"\"\"Function to sample a csv file.\"\"\"\n",
    "    # Count the lines\n",
    "    num_lines = sum(1 for l in open(file, encoding='utf-8'))\n",
    "    print(\"File size\", num_lines)\n",
    "\n",
    "    # Sample size - in this case ~10%\n",
    "    size = int(num_lines / 10)\n",
    "\n",
    "    # The row indices to skip - make sure 0 is not included to keep the header!\n",
    "    random.seed(30)\n",
    "    skip_idx = random.sample(range(1, num_lines), num_lines - size)\n",
    "\n",
    "    return skip_idx"
   ],
   "cell_type": "code",
   "metadata": {},
   "execution_count": 7,
   "outputs": []
  },
  {
   "source": [
    "## La liste des acteurs par film"
   ],
   "cell_type": "markdown",
   "metadata": {}
  },
  {
   "source": [
    "## La liste des films Américains (en gardant leur nom en français) et leur note moyenne"
   ],
   "cell_type": "markdown",
   "metadata": {}
  },
  {
   "cell_type": "code",
   "execution_count": 8,
   "metadata": {
    "tags": []
   },
   "outputs": [
    {
     "output_type": "stream",
     "name": "stdout",
     "text": "File size 19527972\n"
    }
   ],
   "source": [
    "df_title_akas = pd.read_csv('../data/title.akas.tsv', sep='\\t', skiprows=skip_idx('../data/title.akas.tsv'), usecols=['titleId', 'title', 'region'])"
   ]
  },
  {
   "cell_type": "code",
   "execution_count": 9,
   "metadata": {},
   "outputs": [
    {
     "output_type": "execute_result",
     "data": {
      "text/plain": "     titleId                   title region\n0  tt0000001              Carmencita     \\N\n1  tt0000003         Szegény Pierrot     HU\n2  tt0000003            Poor Pierrot     GB\n3  tt0000004      Полная кружка пива     RU\n4  tt0000005  The Blacksmith's Forge     GB",
      "text/html": "<div>\n<style scoped>\n    .dataframe tbody tr th:only-of-type {\n        vertical-align: middle;\n    }\n\n    .dataframe tbody tr th {\n        vertical-align: top;\n    }\n\n    .dataframe thead th {\n        text-align: right;\n    }\n</style>\n<table border=\"1\" class=\"dataframe\">\n  <thead>\n    <tr style=\"text-align: right;\">\n      <th></th>\n      <th>titleId</th>\n      <th>title</th>\n      <th>region</th>\n    </tr>\n  </thead>\n  <tbody>\n    <tr>\n      <th>0</th>\n      <td>tt0000001</td>\n      <td>Carmencita</td>\n      <td>\\N</td>\n    </tr>\n    <tr>\n      <th>1</th>\n      <td>tt0000003</td>\n      <td>Szegény Pierrot</td>\n      <td>HU</td>\n    </tr>\n    <tr>\n      <th>2</th>\n      <td>tt0000003</td>\n      <td>Poor Pierrot</td>\n      <td>GB</td>\n    </tr>\n    <tr>\n      <th>3</th>\n      <td>tt0000004</td>\n      <td>Полная кружка пива</td>\n      <td>RU</td>\n    </tr>\n    <tr>\n      <th>4</th>\n      <td>tt0000005</td>\n      <td>The Blacksmith's Forge</td>\n      <td>GB</td>\n    </tr>\n  </tbody>\n</table>\n</div>"
     },
     "metadata": {},
     "execution_count": 9
    }
   ],
   "source": [
    "df_title_akas.head()"
   ]
  },
  {
   "source": [
    "### Films Américains"
   ],
   "cell_type": "markdown",
   "metadata": {}
  },
  {
   "cell_type": "code",
   "execution_count": 10,
   "metadata": {},
   "outputs": [
    {
     "output_type": "execute_result",
     "data": {
      "text/plain": "      titleId                          title region\n5   tt0000009                     Miss Jerry     US\n18  tt0000026  The Messers. Lumière at Cards     US\n20  tt0000029                  Baby's Dinner     US\n28  tt0000045                The Washerwomen     US\n34  tt0000076              Rip and the Dwarf     US",
      "text/html": "<div>\n<style scoped>\n    .dataframe tbody tr th:only-of-type {\n        vertical-align: middle;\n    }\n\n    .dataframe tbody tr th {\n        vertical-align: top;\n    }\n\n    .dataframe thead th {\n        text-align: right;\n    }\n</style>\n<table border=\"1\" class=\"dataframe\">\n  <thead>\n    <tr style=\"text-align: right;\">\n      <th></th>\n      <th>titleId</th>\n      <th>title</th>\n      <th>region</th>\n    </tr>\n  </thead>\n  <tbody>\n    <tr>\n      <th>5</th>\n      <td>tt0000009</td>\n      <td>Miss Jerry</td>\n      <td>US</td>\n    </tr>\n    <tr>\n      <th>18</th>\n      <td>tt0000026</td>\n      <td>The Messers. Lumière at Cards</td>\n      <td>US</td>\n    </tr>\n    <tr>\n      <th>20</th>\n      <td>tt0000029</td>\n      <td>Baby's Dinner</td>\n      <td>US</td>\n    </tr>\n    <tr>\n      <th>28</th>\n      <td>tt0000045</td>\n      <td>The Washerwomen</td>\n      <td>US</td>\n    </tr>\n    <tr>\n      <th>34</th>\n      <td>tt0000076</td>\n      <td>Rip and the Dwarf</td>\n      <td>US</td>\n    </tr>\n  </tbody>\n</table>\n</div>"
     },
     "metadata": {},
     "execution_count": 10
    }
   ],
   "source": [
    "df_us = df_title_akas[df_title_akas['region'] == 'US']\n",
    "df_us.head()"
   ]
  },
  {
   "cell_type": "code",
   "execution_count": 12,
   "metadata": {
    "tags": []
   },
   "outputs": [
    {
     "output_type": "stream",
     "name": "stdout",
     "text": "File size 6321303\n"
    }
   ],
   "source": [
    "df_title_basics = pd.read_csv('../data/title.basics.tsv', sep='\\t', skiprows=skip_idx('../data/title.basics.tsv'), usecols=['tconst', 'originalTitle'])"
   ]
  },
  {
   "cell_type": "code",
   "execution_count": 13,
   "metadata": {},
   "outputs": [
    {
     "output_type": "execute_result",
     "data": {
      "text/plain": "      tconst                                      originalTitle\n0  tt0000006                                  Chinese Opium Den\n1  tt0000013  Neuville-sur-Saône: Débarquement du congrès de...\n2  tt0000016                             Barque sortant du port\n3  tt0000022                                      Les forgerons\n4  tt0000027                        Place des Cordeliers à Lyon",
      "text/html": "<div>\n<style scoped>\n    .dataframe tbody tr th:only-of-type {\n        vertical-align: middle;\n    }\n\n    .dataframe tbody tr th {\n        vertical-align: top;\n    }\n\n    .dataframe thead th {\n        text-align: right;\n    }\n</style>\n<table border=\"1\" class=\"dataframe\">\n  <thead>\n    <tr style=\"text-align: right;\">\n      <th></th>\n      <th>tconst</th>\n      <th>originalTitle</th>\n    </tr>\n  </thead>\n  <tbody>\n    <tr>\n      <th>0</th>\n      <td>tt0000006</td>\n      <td>Chinese Opium Den</td>\n    </tr>\n    <tr>\n      <th>1</th>\n      <td>tt0000013</td>\n      <td>Neuville-sur-Saône: Débarquement du congrès de...</td>\n    </tr>\n    <tr>\n      <th>2</th>\n      <td>tt0000016</td>\n      <td>Barque sortant du port</td>\n    </tr>\n    <tr>\n      <th>3</th>\n      <td>tt0000022</td>\n      <td>Les forgerons</td>\n    </tr>\n    <tr>\n      <th>4</th>\n      <td>tt0000027</td>\n      <td>Place des Cordeliers à Lyon</td>\n    </tr>\n  </tbody>\n</table>\n</div>"
     },
     "metadata": {},
     "execution_count": 13
    }
   ],
   "source": [
    "df_title_basics.head()"
   ]
  },
  {
   "cell_type": "code",
   "execution_count": 18,
   "metadata": {},
   "outputs": [
    {
     "output_type": "execute_result",
     "data": {
      "text/plain": "     titleId                      title region     tconst   originalTitle  \\\n0  tt0000886  Hamlet, Prince of Denmark     US  tt0000886          Hamlet   \n1  tt0005758                   Mixed Up     US  tt0005758        Mixed Up   \n2  tt0013304             The Last Laugh     US  tt0013304  The Last Laugh   \n3  tt0014417                  The Wheel     US  tt0014417         La roue   \n4  tt0015191                   On Time!     US  tt0015191         On Time   \n\n   averageRating  numVotes  \n0            5.2        19  \n1            7.8        12  \n2            8.3        29  \n3            7.4      1679  \n4            4.7        11  ",
      "text/html": "<div>\n<style scoped>\n    .dataframe tbody tr th:only-of-type {\n        vertical-align: middle;\n    }\n\n    .dataframe tbody tr th {\n        vertical-align: top;\n    }\n\n    .dataframe thead th {\n        text-align: right;\n    }\n</style>\n<table border=\"1\" class=\"dataframe\">\n  <thead>\n    <tr style=\"text-align: right;\">\n      <th></th>\n      <th>titleId</th>\n      <th>title</th>\n      <th>region</th>\n      <th>tconst</th>\n      <th>originalTitle</th>\n      <th>averageRating</th>\n      <th>numVotes</th>\n    </tr>\n  </thead>\n  <tbody>\n    <tr>\n      <th>0</th>\n      <td>tt0000886</td>\n      <td>Hamlet, Prince of Denmark</td>\n      <td>US</td>\n      <td>tt0000886</td>\n      <td>Hamlet</td>\n      <td>5.2</td>\n      <td>19</td>\n    </tr>\n    <tr>\n      <th>1</th>\n      <td>tt0005758</td>\n      <td>Mixed Up</td>\n      <td>US</td>\n      <td>tt0005758</td>\n      <td>Mixed Up</td>\n      <td>7.8</td>\n      <td>12</td>\n    </tr>\n    <tr>\n      <th>2</th>\n      <td>tt0013304</td>\n      <td>The Last Laugh</td>\n      <td>US</td>\n      <td>tt0013304</td>\n      <td>The Last Laugh</td>\n      <td>8.3</td>\n      <td>29</td>\n    </tr>\n    <tr>\n      <th>3</th>\n      <td>tt0014417</td>\n      <td>The Wheel</td>\n      <td>US</td>\n      <td>tt0014417</td>\n      <td>La roue</td>\n      <td>7.4</td>\n      <td>1679</td>\n    </tr>\n    <tr>\n      <th>4</th>\n      <td>tt0015191</td>\n      <td>On Time!</td>\n      <td>US</td>\n      <td>tt0015191</td>\n      <td>On Time</td>\n      <td>4.7</td>\n      <td>11</td>\n    </tr>\n  </tbody>\n</table>\n</div>"
     },
     "metadata": {},
     "execution_count": 18
    }
   ],
   "source": [
    "df_title_ratings = pd.read_csv('../data/title.ratings.tsv', sep='\\t', skiprows=skip_idx('../data/title.ratings.tsv'))\n",
    "merge = df_us.merge(df_title_basics, left_on='titleId', right_on='tconst').merge(df_title_ratings)\n",
    "merge.head()"
   ]
  }
 ]
}