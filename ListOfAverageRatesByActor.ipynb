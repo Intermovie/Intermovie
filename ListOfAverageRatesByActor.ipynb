{
 "metadata": {
  "language_info": {
   "codemirror_mode": {
    "name": "ipython",
    "version": 3
   },
   "file_extension": ".py",
   "mimetype": "text/x-python",
   "name": "python",
   "nbconvert_exporter": "python",
   "pygments_lexer": "ipython3",
   "version": "3.7.6-final"
  },
  "orig_nbformat": 2,
  "kernelspec": {
   "name": "Python 3.7.6 64-bit ('base': conda)",
   "display_name": "Python 3.7.6 64-bit ('base': conda)",
   "metadata": {
    "interpreter": {
     "hash": "b57b0ba709768a7bbbc5b5f9f052a7cbe42e1ac711dd327dca942e98c95c92b1"
    }
   }
  }
 },
 "nbformat": 4,
 "nbformat_minor": 2,
 "cells": [
  {
   "cell_type": "code",
   "execution_count": 44,
   "metadata": {},
   "outputs": [],
   "source": [
    "#Importation de panda\n",
    "\n",
    "import pandas as pd"
   ]
  },
  {
   "cell_type": "code",
   "execution_count": 45,
   "metadata": {},
   "outputs": [],
   "source": [
    "#Chargement des fichier contenant les tables\n",
    "\n",
    "dfTitle = pd.read_csv(\"../data/title.basics.tsv\", sep='\\t', usecols=[\"tconst\", \"primaryTitle\", \"originalTitle\"], encoding='utf-8')\n",
    "dfName = pd.read_csv(\"../data/name.basics.tsv\", sep='\\t', usecols=[\"nconst\", \"primaryName\"], encoding='utf-8')\n",
    "dfPrincipals = pd.read_csv(\"../data/title.principals.tsv\", sep='\\t', usecols=[\"tconst\", \"nconst\", \"category\"], encoding='utf-8')\n",
    "dfRating = pd.read_csv(\"../data/title.ratings.tsv\", sep='\\t', usecols=[\"tconst\", \"averageRating\"], encoding='utf-8')\n"
   ]
  },
  {
   "cell_type": "code",
   "execution_count": 46,
   "metadata": {
    "tags": []
   },
   "outputs": [],
   "source": [
    "#Chargement de la liste des acteurs\n",
    "\n",
    "actorMovieList = []\n",
    "\n",
    "#Récupération du code de l'acteur, de son nom et des films où il a joué\n",
    "for i in range (len(dfName)):\n",
    "    if (dfPrincipals['category'].values[i] == 'actor' or dfPrincipals['category'].values[i] == 'actress'):\n",
    "        actorMovieList.append([dfPrincipals['nconst'].values[i], dfName['primaryName'].values[i], dfPrincipals['tconst'].values[i]])\n",
    "\n",
    "#Ecriture dans la table prévue pour afficher les résultats\n",
    "actorsMovieDF = pd.DataFrame(actorMovieList, columns=['codeActor', 'nameActor', 'codeMovie'])\n"
   ]
  },
  {
   "cell_type": "code",
   "execution_count": 47,
   "metadata": {
    "tags": []
   },
   "outputs": [],
   "source": [
    "#Chargement de la liste des films\n",
    "\n",
    "scoreMovieList = []\n",
    "\n",
    "#Récupération du code du film et de sa note\n",
    "for i in range (len(dfRating)):\n",
    "    scoreMovieList.append([dfRating['tconst'].values[i], dfRating['averageRating'].values[i]])\n",
    "\n",
    "#Ecriture dans la table prévue pour afficher les résultats\n",
    "scoreMovieDF = pd.DataFrame(scoreMovieList, columns=['codeMovie', 'averageScore'])"
   ]
  },
  {
   "cell_type": "code",
   "execution_count": 48,
   "metadata": {
    "tags": []
   },
   "outputs": [],
   "source": [
    "#Fusion des deux dataframes en un seul\n",
    "fusion = pd.merge(actorsMovieDF,scoreMovieDF,on=['codeMovie'])\n",
    "\n",
    "#Regroupement en deux colonnes : la première contenant le nom de l'acteur, et la seconde contenant sa note moyenne\n",
    "ActeurNotes = fusion.groupby(['nameActor'])['averageScore'].mean()"
   ]
  },
  {
   "cell_type": "code",
   "execution_count": 49,
   "metadata": {},
   "outputs": [],
   "source": [
    "#Enregistrement dans le fichier 'actorsAverage.csv'\n",
    "\n",
    "finalActorsAverageDF = pd.DataFrame(ActeurNotes, columns=['averageScore'])\n",
    "finalActorsAverageDF.to_csv('actorsAverage.csv')"
   ]
  },
  {
   "cell_type": "code",
   "execution_count": null,
   "metadata": {},
   "outputs": [],
   "source": []
  }
 ]
}