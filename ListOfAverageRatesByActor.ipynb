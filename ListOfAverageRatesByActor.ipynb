{
 "metadata": {
  "language_info": {
   "codemirror_mode": {
    "name": "ipython",
    "version": 3
   },
   "file_extension": ".py",
   "mimetype": "text/x-python",
   "name": "python",
   "nbconvert_exporter": "python",
   "pygments_lexer": "ipython3",
   "version": "3.7.6-final"
  },
  "orig_nbformat": 2,
  "kernelspec": {
   "name": "Python 3.7.6 64-bit ('base': conda)",
   "display_name": "Python 3.7.6 64-bit ('base': conda)",
   "metadata": {
    "interpreter": {
     "hash": "b57b0ba709768a7bbbc5b5f9f052a7cbe42e1ac711dd327dca942e98c95c92b1"
    }
   }
  }
 },
 "nbformat": 4,
 "nbformat_minor": 2,
 "cells": [
  {
   "cell_type": "code",
   "execution_count": 5,
   "metadata": {},
   "outputs": [],
   "source": [
    "#Importation de panda\n",
    "\n",
    "import pandas as pd"
   ]
  },
  {
   "cell_type": "code",
   "execution_count": 6,
   "metadata": {},
   "outputs": [],
   "source": [
    "#Chargement des fichier contenant les tables\n",
    "\n",
    "dfTitle = pd.read_csv(\"../data/title.basics.tsv\", sep='\\t', usecols=[\"tconst\", \"primaryTitle\", \"originalTitle\"], encoding='utf-8')\n",
    "dfName = pd.read_csv(\"../data/name.basics.tsv\", sep='\\t', usecols=[\"nconst\", \"primaryName\"], encoding='utf-8')\n",
    "dfPrincipals = pd.read_csv(\"../data/title.principals.tsv\", sep='\\t', usecols=[\"tconst\", \"nconst\", \"category\"], encoding='utf-8')\n",
    "dfRating = pd.read_csv(\"../data/title.ratings.tsv\", sep='\\t', usecols=[\"tconst\", \"averageRating\"], encoding='utf-8')\n"
   ]
  },
  {
   "cell_type": "code",
   "execution_count": 9,
   "metadata": {
    "tags": []
   },
   "outputs": [
    {
     "output_type": "execute_result",
     "data": {
      "text/plain": "         codeActor         nameActor   codeMovie\n0        nm0443482       Bette Davis   tt0000005\n1        nm0653042         Doris Day   tt0000005\n2        nm0179163  Marlene Dietrich   tt0000007\n3        nm0183947      Kirk Douglas   tt0000007\n4        nm0653028       Clark Gable   tt0000008\n...            ...               ...         ...\n4316759  nm0066075  Michal Jackowski  tt10737702\n4316760  nm0438478    Alexandra Rago  tt10737702\n4316761  nm0790858        Eli Bevins  tt10737702\n4316762  nm0066075       Aayush Nair  tt10737706\n4316763  nm0438478        Andre Hill  tt10737706\n\n[4316764 rows x 3 columns]",
      "text/html": "<div>\n<style scoped>\n    .dataframe tbody tr th:only-of-type {\n        vertical-align: middle;\n    }\n\n    .dataframe tbody tr th {\n        vertical-align: top;\n    }\n\n    .dataframe thead th {\n        text-align: right;\n    }\n</style>\n<table border=\"1\" class=\"dataframe\">\n  <thead>\n    <tr style=\"text-align: right;\">\n      <th></th>\n      <th>codeActor</th>\n      <th>nameActor</th>\n      <th>codeMovie</th>\n    </tr>\n  </thead>\n  <tbody>\n    <tr>\n      <th>0</th>\n      <td>nm0443482</td>\n      <td>Bette Davis</td>\n      <td>tt0000005</td>\n    </tr>\n    <tr>\n      <th>1</th>\n      <td>nm0653042</td>\n      <td>Doris Day</td>\n      <td>tt0000005</td>\n    </tr>\n    <tr>\n      <th>2</th>\n      <td>nm0179163</td>\n      <td>Marlene Dietrich</td>\n      <td>tt0000007</td>\n    </tr>\n    <tr>\n      <th>3</th>\n      <td>nm0183947</td>\n      <td>Kirk Douglas</td>\n      <td>tt0000007</td>\n    </tr>\n    <tr>\n      <th>4</th>\n      <td>nm0653028</td>\n      <td>Clark Gable</td>\n      <td>tt0000008</td>\n    </tr>\n    <tr>\n      <th>...</th>\n      <td>...</td>\n      <td>...</td>\n      <td>...</td>\n    </tr>\n    <tr>\n      <th>4316759</th>\n      <td>nm0066075</td>\n      <td>Michal Jackowski</td>\n      <td>tt10737702</td>\n    </tr>\n    <tr>\n      <th>4316760</th>\n      <td>nm0438478</td>\n      <td>Alexandra Rago</td>\n      <td>tt10737702</td>\n    </tr>\n    <tr>\n      <th>4316761</th>\n      <td>nm0790858</td>\n      <td>Eli Bevins</td>\n      <td>tt10737702</td>\n    </tr>\n    <tr>\n      <th>4316762</th>\n      <td>nm0066075</td>\n      <td>Aayush Nair</td>\n      <td>tt10737706</td>\n    </tr>\n    <tr>\n      <th>4316763</th>\n      <td>nm0438478</td>\n      <td>Andre Hill</td>\n      <td>tt10737706</td>\n    </tr>\n  </tbody>\n</table>\n<p>4316764 rows × 3 columns</p>\n</div>"
     },
     "metadata": {},
     "execution_count": 9
    }
   ],
   "source": [
    "#Chargement de la liste des acteurs\n",
    "\n",
    "\"\"\"actorList = []\n",
    "finalActorList = []\n",
    "\n",
    "for i in range (1000):\n",
    "    for j in range (1000):\n",
    "        #print(dfName['nconst'].values[i])\n",
    "        #print(dfPrincipals['nconst'].values[j])\n",
    "        if (dfName['nconst'].values[i] == dfPrincipals['nconst'].values[j] and (dfPrincipals['category'].values[j] == 'actor' or dfPrincipals['category'].values[j] == 'actress')):\n",
    "            actorList.append([dfName['primaryName'].values[i], dfName['nconst'].values[0]])\n",
    "\n",
    "#Ecriture dans la table prévue pour afficher les résultats\n",
    "actorsMoviesDF = pd.DataFrame(actorList, columns=['Movie', 'Actor'])\n",
    "\n",
    "actorsMoviesDF.head(10)\"\"\"\n",
    "\n",
    "actorMovieList = []\n",
    "\n",
    "for i in range (len(dfName)):\n",
    "    if (dfPrincipals['category'].values[i] == 'actor' or dfPrincipals['category'].values[i] == 'actress'):\n",
    "        actorMovieList.append([dfPrincipals['nconst'].values[i], dfName['primaryName'].values[i], dfPrincipals['tconst'].values[i]])\n",
    "\n",
    "\"\"\"for i in range (100):\n",
    "    if (dfName['primaryName'].values[i] == 'Bardot'):\n",
    "        actorList.append([dfName['primaryName'].values[i], dfName['nconst'].values[0]])\"\"\"\n",
    "        #print(dfName['nconst'].values[0])\n",
    "\n",
    "#Ecriture dans la table prévue pour afficher les résultats\n",
    "actorsMovieDF = pd.DataFrame(actorMovieList, columns=['codeActor', 'nameActor', 'codeMovie'])\n",
    "\n",
    "actorsMovieDF.head(len(actorsMovieDF))\n"
   ]
  },
  {
   "cell_type": "code",
   "execution_count": 4,
   "metadata": {
    "tags": []
   },
   "outputs": [
    {
     "output_type": "error",
     "ename": "NameError",
     "evalue": "name 'actorsMovieDF' is not defined",
     "traceback": [
      "\u001b[1;31m---------------------------------------------------------------------------\u001b[0m",
      "\u001b[1;31mNameError\u001b[0m                                 Traceback (most recent call last)",
      "\u001b[1;32m<ipython-input-4-77d185162014>\u001b[0m in \u001b[0;36m<module>\u001b[1;34m\u001b[0m\n\u001b[1;32m----> 1\u001b[1;33m \u001b[1;32mfor\u001b[0m \u001b[0mi\u001b[0m \u001b[1;32min\u001b[0m \u001b[0mrange\u001b[0m \u001b[1;33m(\u001b[0m\u001b[0mlen\u001b[0m\u001b[1;33m(\u001b[0m\u001b[0mactorsMovieDF\u001b[0m\u001b[1;33m)\u001b[0m\u001b[1;33m)\u001b[0m\u001b[1;33m:\u001b[0m\u001b[1;33m\u001b[0m\u001b[1;33m\u001b[0m\u001b[0m\n\u001b[0m\u001b[0;32m      2\u001b[0m     \u001b[1;32mif\u001b[0m \u001b[1;33m(\u001b[0m\u001b[0mactorsMovieDF\u001b[0m\u001b[1;33m[\u001b[0m\u001b[1;34m'codeActor'\u001b[0m\u001b[1;33m]\u001b[0m\u001b[1;33m.\u001b[0m\u001b[0mvalues\u001b[0m\u001b[1;33m[\u001b[0m\u001b[0mi\u001b[0m\u001b[1;33m]\u001b[0m \u001b[1;33m==\u001b[0m \u001b[1;34m'nm0443482'\u001b[0m\u001b[1;33m)\u001b[0m\u001b[1;33m:\u001b[0m\u001b[1;33m\u001b[0m\u001b[1;33m\u001b[0m\u001b[0m\n\u001b[0;32m      3\u001b[0m         \u001b[0mprint\u001b[0m\u001b[1;33m(\u001b[0m\u001b[0mactorsMovieDF\u001b[0m\u001b[1;33m[\u001b[0m\u001b[1;34m'codeActor'\u001b[0m\u001b[1;33m]\u001b[0m\u001b[1;33m.\u001b[0m\u001b[0mvalues\u001b[0m\u001b[1;33m[\u001b[0m\u001b[0mi\u001b[0m\u001b[1;33m]\u001b[0m \u001b[1;33m+\u001b[0m \u001b[1;34m'  '\u001b[0m \u001b[1;33m+\u001b[0m \u001b[0mactorsMovieDF\u001b[0m\u001b[1;33m[\u001b[0m\u001b[1;34m'codeMovie'\u001b[0m\u001b[1;33m]\u001b[0m\u001b[1;33m.\u001b[0m\u001b[0mvalues\u001b[0m\u001b[1;33m[\u001b[0m\u001b[0mi\u001b[0m\u001b[1;33m]\u001b[0m\u001b[1;33m)\u001b[0m\u001b[1;33m\u001b[0m\u001b[1;33m\u001b[0m\u001b[0m\n",
      "\u001b[1;31mNameError\u001b[0m: name 'actorsMovieDF' is not defined"
     ]
    }
   ],
   "source": [
    "for i in range (len(actorsMovieDF)):\n",
    "    if (actorsMovieDF['codeActor'].values[i] == 'nm0443482'):\n",
    "        print(actorsMovieDF['codeActor'].values[i] + '  ' + actorsMovieDF['codeMovie'].values[i])"
   ]
  },
  {
   "cell_type": "code",
   "execution_count": 10,
   "metadata": {
    "tags": []
   },
   "outputs": [
    {
     "output_type": "execute_result",
     "data": {
      "text/plain": "        codeMovie  Score\n0       tt0000001    5.6\n1       tt0000002    6.1\n2       tt0000003    6.5\n3       tt0000004    6.2\n4       tt0000005    6.1\n...           ...    ...\n993148  tt9916576    5.9\n993149  tt9916578    9.1\n993150  tt9916720    5.1\n993151  tt9916766    6.7\n993152  tt9916778    6.9\n\n[993153 rows x 2 columns]",
      "text/html": "<div>\n<style scoped>\n    .dataframe tbody tr th:only-of-type {\n        vertical-align: middle;\n    }\n\n    .dataframe tbody tr th {\n        vertical-align: top;\n    }\n\n    .dataframe thead th {\n        text-align: right;\n    }\n</style>\n<table border=\"1\" class=\"dataframe\">\n  <thead>\n    <tr style=\"text-align: right;\">\n      <th></th>\n      <th>codeMovie</th>\n      <th>Score</th>\n    </tr>\n  </thead>\n  <tbody>\n    <tr>\n      <th>0</th>\n      <td>tt0000001</td>\n      <td>5.6</td>\n    </tr>\n    <tr>\n      <th>1</th>\n      <td>tt0000002</td>\n      <td>6.1</td>\n    </tr>\n    <tr>\n      <th>2</th>\n      <td>tt0000003</td>\n      <td>6.5</td>\n    </tr>\n    <tr>\n      <th>3</th>\n      <td>tt0000004</td>\n      <td>6.2</td>\n    </tr>\n    <tr>\n      <th>4</th>\n      <td>tt0000005</td>\n      <td>6.1</td>\n    </tr>\n    <tr>\n      <th>...</th>\n      <td>...</td>\n      <td>...</td>\n    </tr>\n    <tr>\n      <th>993148</th>\n      <td>tt9916576</td>\n      <td>5.9</td>\n    </tr>\n    <tr>\n      <th>993149</th>\n      <td>tt9916578</td>\n      <td>9.1</td>\n    </tr>\n    <tr>\n      <th>993150</th>\n      <td>tt9916720</td>\n      <td>5.1</td>\n    </tr>\n    <tr>\n      <th>993151</th>\n      <td>tt9916766</td>\n      <td>6.7</td>\n    </tr>\n    <tr>\n      <th>993152</th>\n      <td>tt9916778</td>\n      <td>6.9</td>\n    </tr>\n  </tbody>\n</table>\n<p>993153 rows × 2 columns</p>\n</div>"
     },
     "metadata": {},
     "execution_count": 10
    }
   ],
   "source": [
    "scoreMovieList = []\n",
    "\n",
    "for i in range (len(dfRating)):\n",
    "    #for j in range (len(actorsMovieDF)):\n",
    "        #print(actorsMovieDF['codeMovie'].values[j] + \"  \" + dfRating['tconst'].values[i])\n",
    "        #if (actorsMovieDF['codeMovie'].values[j] == pourting['tconst'].values[i]):\n",
    "            #print(actorsMovieDF['codeMovie'].values[j] + \"  \" + dfRating['tconst'].values[i])\n",
    "    scoreMovieList.append([dfRating['tconst'].values[i], str(dfRating['averageRating'].values[i])])\n",
    "\n",
    "#Ecriture dans la table prévue pour afficher les résultats\n",
    "scoreMovieDF = pd.DataFrame(scoreMovieList, columns=['codeMovie', 'Score'])\n",
    "\n",
    "scoreMovieDF.head(len(scoreMovieDF))"
   ]
  },
  {
   "cell_type": "code",
   "execution_count": 19,
   "metadata": {
    "tags": []
   },
   "outputs": [
    {
     "output_type": "error",
     "ename": "SyntaxError",
     "evalue": "invalid syntax (<ipython-input-19-13e47e23a7a8>, line 2)",
     "traceback": [
      "\u001b[1;36m  File \u001b[1;32m\"<ipython-input-19-13e47e23a7a8>\"\u001b[1;36m, line \u001b[1;32m2\u001b[0m\n\u001b[1;33m    resultatCodes = fusion.groupby('codeActor')str(['Score']).apply(', '.join)\u001b[0m\n\u001b[1;37m                                                 ^\u001b[0m\n\u001b[1;31mSyntaxError\u001b[0m\u001b[1;31m:\u001b[0m invalid syntax\n"
     ]
    }
   ],
   "source": [
    "fusion = pd.merge(actorsMovieDF,scoreMovieDF,on=['codeMovie'])\n",
    "resultatCodes = fusion.groupby('codeActor')['Score'].apply(', '.join)\n",
    "#test = resultat.groupby('codeActor')\n",
    "\n",
    "#for i in range (len(resultat)):\n",
    "    #if (resultat['codeActor'].values[i] == 'nm0000003'):\n",
    "        #print (str(resultat['codeActor'].values[i]) + \"    \" + str(resultat['codeMovie'].values[i]) + \"    \" + str(resultat['Score'].values[i]))\n",
    "\n",
    "resultatCodes.head() "
   ]
  },
  {
   "cell_type": "code",
   "execution_count": null,
   "metadata": {},
   "outputs": [],
   "source": []
  }
 ]
}